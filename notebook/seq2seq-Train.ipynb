{
 "cells": [
  {
   "cell_type": "code",
   "execution_count": 1,
   "metadata": {
    "colab": {
     "base_uri": "https://localhost:8080/",
     "height": 34
    },
    "colab_type": "code",
    "executionInfo": {
     "elapsed": 2664,
     "status": "ok",
     "timestamp": 1591350342864,
     "user": {
      "displayName": "罗杰",
      "photoUrl": "https://lh3.googleusercontent.com/a-/AOh14Gg-a_YBdWbEZ2-QLI4_OGvTo7Epwx70DhGLvFws=s64",
      "userId": "01455695120655509307"
     },
     "user_tz": -480
    },
    "id": "ZRRxzlqKboUx",
    "outputId": "7038003e-8170-482e-cec5-8d2e2bec7f9e"
   },
   "outputs": [
    {
     "data": {
      "text/plain": [
       "'2.2.0'"
      ]
     },
     "execution_count": 1,
     "metadata": {},
     "output_type": "execute_result"
    }
   ],
   "source": [
    "import tensorflow as tf\n",
    "tf.__version__"
   ]
  },
  {
   "cell_type": "code",
   "execution_count": 2,
   "metadata": {
    "colab": {
     "base_uri": "https://localhost:8080/",
     "height": 306
    },
    "colab_type": "code",
    "executionInfo": {
     "elapsed": 4514,
     "status": "ok",
     "timestamp": 1591350344898,
     "user": {
      "displayName": "罗杰",
      "photoUrl": "https://lh3.googleusercontent.com/a-/AOh14Gg-a_YBdWbEZ2-QLI4_OGvTo7Epwx70DhGLvFws=s64",
      "userId": "01455695120655509307"
     },
     "user_tz": -480
    },
    "id": "EOxuGQtG3J-W",
    "outputId": "3213ef20-e7e5-4adc-b1ae-d6da87d33ba7"
   },
   "outputs": [
    {
     "name": "stdout",
     "output_type": "stream",
     "text": [
      "/bin/sh: nvidia-smi: command not found\n"
     ]
    }
   ],
   "source": [
    "!nvidia-smi"
   ]
  },
  {
   "cell_type": "code",
   "execution_count": 3,
   "metadata": {
    "colab": {
     "base_uri": "https://localhost:8080/",
     "height": 122
    },
    "colab_type": "code",
    "executionInfo": {
     "elapsed": 20286,
     "status": "ok",
     "timestamp": 1591350367060,
     "user": {
      "displayName": "罗杰",
      "photoUrl": "https://lh3.googleusercontent.com/a-/AOh14Gg-a_YBdWbEZ2-QLI4_OGvTo7Epwx70DhGLvFws=s64",
      "userId": "01455695120655509307"
     },
     "user_tz": -480
    },
    "id": "jnTVMG743zuk",
    "outputId": "4cfec163-ea91-4455-a0e3-bb9930c91bdf"
   },
   "outputs": [
    {
     "name": "stdout",
     "output_type": "stream",
     "text": [
      "Go to this URL in a browser: https://accounts.google.com/o/oauth2/auth?client_id=947318989803-6bn6qk8qdgf4n4g3pfee6491hc0brc4i.apps.googleusercontent.com&redirect_uri=urn%3aietf%3awg%3aoauth%3a2.0%3aoob&response_type=code&scope=email%20https%3a%2f%2fwww.googleapis.com%2fauth%2fdocs.test%20https%3a%2f%2fwww.googleapis.com%2fauth%2fdrive%20https%3a%2f%2fwww.googleapis.com%2fauth%2fdrive.photos.readonly%20https%3a%2f%2fwww.googleapis.com%2fauth%2fpeopleapi.readonly\n",
      "\n",
      "Enter your authorization code:\n",
      "··········\n",
      "Mounted at /content/drive\n"
     ]
    }
   ],
   "source": [
    "from google.colab import drive\n",
    "drive.mount('/content/drive')"
   ]
  },
  {
   "cell_type": "markdown",
   "metadata": {
    "colab_type": "text",
    "id": "liBgwP3_bgEN"
   },
   "source": [
    "# Encoder And Decoder Model"
   ]
  },
  {
   "cell_type": "markdown",
   "metadata": {
    "colab_type": "text",
    "id": "GZqjMB11bgEN"
   },
   "source": [
    "# 0. GPU测试"
   ]
  },
  {
   "cell_type": "code",
   "execution_count": null,
   "metadata": {
    "colab": {},
    "colab_type": "code",
    "id": "yFNzsq_VbgEO"
   },
   "outputs": [],
   "source": [
    "%load_ext autoreload\n",
    "%autoreload 2"
   ]
  },
  {
   "cell_type": "code",
   "execution_count": null,
   "metadata": {
    "colab": {},
    "colab_type": "code",
    "id": "6a-etFKdd2ke"
   },
   "outputs": [],
   "source": [
    "# ! unzip drive/'My Drive'/kaikeba/project01/lecture01_code.zip"
   ]
  },
  {
   "cell_type": "code",
   "execution_count": 6,
   "metadata": {
    "colab": {
     "base_uri": "https://localhost:8080/",
     "height": 170
    },
    "colab_type": "code",
    "executionInfo": {
     "elapsed": 13826,
     "status": "ok",
     "timestamp": 1591350381199,
     "user": {
      "displayName": "罗杰",
      "photoUrl": "https://lh3.googleusercontent.com/a-/AOh14Gg-a_YBdWbEZ2-QLI4_OGvTo7Epwx70DhGLvFws=s64",
      "userId": "01455695120655509307"
     },
     "user_tz": -480
    },
    "id": "eMdU5w9abgES",
    "outputId": "53043dae-6efb-495d-8a07-abb334c841eb"
   },
   "outputs": [
    {
     "name": "stderr",
     "output_type": "stream",
     "text": [
      "Building prefix dict from the default dictionary ...\n",
      "2020-06-05 09:46:10,927 : DEBUG : Building prefix dict from the default dictionary ...\n",
      "Dumping model to file cache /tmp/jieba.cache\n",
      "2020-06-05 09:46:11,799 : DEBUG : Dumping model to file cache /tmp/jieba.cache\n",
      "Loading model cost 0.952 seconds.\n",
      "2020-06-05 09:46:11,885 : DEBUG : Loading model cost 0.952 seconds.\n",
      "Prefix dict has been built successfully.\n",
      "2020-06-05 09:46:11,887 : DEBUG : Prefix dict has been built successfully.\n"
     ]
    },
    {
     "name": "stdout",
     "output_type": "stream",
     "text": [
      "1 Physical GPUs, 1 Logical GPUs\n"
     ]
    }
   ],
   "source": [
    "import warnings\n",
    "warnings.filterwarnings(\"ignore\")\n",
    "import sys\n",
    "sys.path.append('drive/My Drive/kaikeba/project01/code')\n",
    "import pandas as pd\n",
    "import numpy as np\n",
    "import matplotlib.pyplot as plt\n",
    "import matplotlib.ticker as ticker\n",
    "from utils.data_loader import build_dataset,load_dataset,preprocess_sentence,load_test_dataset\n",
    "from utils.wv_loader import load_embedding_matrix,Vocab\n",
    "from utils.config import *\n",
    "from gensim.models.word2vec import LineSentence, Word2Vec\n",
    "from utils.gpu_utils import config_gpu\n",
    "config_gpu()\n",
    "import tensorflow as tf\n",
    "from utils.plot_utils import plot_attention\n",
    "from tqdm import tqdm\n",
    "import time\n",
    "from seq2seq_tf2.seq2seq_batcher import train_batch_generator"
   ]
  },
  {
   "cell_type": "markdown",
   "metadata": {
    "colab_type": "text",
    "id": "Y3k4CQKzbgEV"
   },
   "source": [
    "# 0. 预处理数据"
   ]
  },
  {
   "cell_type": "code",
   "execution_count": null,
   "metadata": {
    "colab": {},
    "colab_type": "code",
    "id": "zuLR2LHQfXCv"
   },
   "outputs": [],
   "source": [
    "# %%time\n",
    "# build_dataset(train_data_path,test_data_path)"
   ]
  },
  {
   "cell_type": "markdown",
   "metadata": {
    "colab_type": "text",
    "id": "qMf9tuTubgEX"
   },
   "source": [
    "# 1. 加载数据"
   ]
  },
  {
   "cell_type": "markdown",
   "metadata": {
    "colab_type": "text",
    "id": "ZoJhksySbgEY"
   },
   "source": [
    "## 1.1 加载数据集"
   ]
  },
  {
   "cell_type": "code",
   "execution_count": null,
   "metadata": {
    "colab": {},
    "colab_type": "code",
    "id": "nvA2eoHnbgEY"
   },
   "outputs": [],
   "source": [
    "params = {}\n",
    "params[\"vocab_size\"] = 30000\n",
    "params[\"embed_size\"] = 300\n",
    "params[\"enc_units\"] = 512\n",
    "params[\"attn_units\"] = 512\n",
    "params[\"dec_units\"] = 512\n",
    "params[\"batch_size\"] = 64\n",
    "params[\"epochs\"] = 5\n",
    "params[\"max_enc_len\"] = 200\n",
    "params[\"max_dec_len\"] = 40"
   ]
  },
  {
   "cell_type": "code",
   "execution_count": 13,
   "metadata": {
    "colab": {
     "base_uri": "https://localhost:8080/",
     "height": 34
    },
    "colab_type": "code",
    "executionInfo": {
     "elapsed": 1571,
     "status": "ok",
     "timestamp": 1591350390458,
     "user": {
      "displayName": "罗杰",
      "photoUrl": "https://lh3.googleusercontent.com/a-/AOh14Gg-a_YBdWbEZ2-QLI4_OGvTo7Epwx70DhGLvFws=s64",
      "userId": "01455695120655509307"
     },
     "user_tz": -480
    },
    "id": "JADHS0X6bgEb",
    "outputId": "c76c4200-4af1-403c-9df2-94731bfad475"
   },
   "outputs": [
    {
     "data": {
      "text/plain": [
       "1294"
      ]
     },
     "execution_count": 13,
     "metadata": {
      "tags": []
     },
     "output_type": "execute_result"
    }
   ],
   "source": [
    "dataset, steps_per_epoch = train_batch_generator(batch_size=params[\"batch_size\"] ,\n",
    "                                                 max_enc_len=params[\"max_enc_len\"],\n",
    "                                                 max_dec_len=params[\"max_dec_len\"])\n",
    "test_X = load_test_dataset(params[\"max_enc_len\"])\n",
    "steps_per_epoch"
   ]
  },
  {
   "cell_type": "code",
   "execution_count": 14,
   "metadata": {
    "colab": {
     "base_uri": "https://localhost:8080/",
     "height": 34
    },
    "colab_type": "code",
    "executionInfo": {
     "elapsed": 1396,
     "status": "ok",
     "timestamp": 1591350390459,
     "user": {
      "displayName": "罗杰",
      "photoUrl": "https://lh3.googleusercontent.com/a-/AOh14Gg-a_YBdWbEZ2-QLI4_OGvTo7Epwx70DhGLvFws=s64",
      "userId": "01455695120655509307"
     },
     "user_tz": -480
    },
    "id": "rPxO1oWKQt3V",
    "outputId": "ae8f248b-651a-4a48-9c02-b0e5ac35afe6"
   },
   "outputs": [
    {
     "data": {
      "text/plain": [
       "(20000, 200)"
      ]
     },
     "execution_count": 14,
     "metadata": {
      "tags": []
     },
     "output_type": "execute_result"
    }
   ],
   "source": [
    "test_X.shape"
   ]
  },
  {
   "cell_type": "markdown",
   "metadata": {
    "colab_type": "text",
    "id": "TQsNOX8MbgEd"
   },
   "source": [
    "## 1.2. 加载vocab"
   ]
  },
  {
   "cell_type": "code",
   "execution_count": 15,
   "metadata": {
    "colab": {
     "base_uri": "https://localhost:8080/",
     "height": 34
    },
    "colab_type": "code",
    "executionInfo": {
     "elapsed": 659,
     "status": "ok",
     "timestamp": 1591350392525,
     "user": {
      "displayName": "罗杰",
      "photoUrl": "https://lh3.googleusercontent.com/a-/AOh14Gg-a_YBdWbEZ2-QLI4_OGvTo7Epwx70DhGLvFws=s64",
      "userId": "01455695120655509307"
     },
     "user_tz": -480
    },
    "id": "RdIrGTVgbgEd",
    "outputId": "9fde473a-e304-4b5a-b3fe-413bf214dc41"
   },
   "outputs": [
    {
     "name": "stdout",
     "output_type": "stream",
     "text": [
      "max_size of vocab was specified as 30000; we now have 29996 words. Stopping reading.\n"
     ]
    }
   ],
   "source": [
    "vocab = Vocab(vocab_max_size=params[\"vocab_size\"])"
   ]
  },
  {
   "cell_type": "markdown",
   "metadata": {
    "colab_type": "text",
    "id": "GvP588eqbgEe"
   },
   "source": [
    "## 1.3 加载预训练权重"
   ]
  },
  {
   "cell_type": "code",
   "execution_count": 16,
   "metadata": {
    "colab": {
     "base_uri": "https://localhost:8080/",
     "height": 34
    },
    "colab_type": "code",
    "executionInfo": {
     "elapsed": 947,
     "status": "ok",
     "timestamp": 1591350393419,
     "user": {
      "displayName": "罗杰",
      "photoUrl": "https://lh3.googleusercontent.com/a-/AOh14Gg-a_YBdWbEZ2-QLI4_OGvTo7Epwx70DhGLvFws=s64",
      "userId": "01455695120655509307"
     },
     "user_tz": -480
    },
    "id": "a3apok7JbgEf",
    "outputId": "5f901f2d-ebb0-4532-cc71-e49b11cda484"
   },
   "outputs": [
    {
     "data": {
      "text/plain": [
       "(30000, 300)"
      ]
     },
     "execution_count": 16,
     "metadata": {
      "tags": []
     },
     "output_type": "execute_result"
    }
   ],
   "source": [
    "embedding_matrix=load_embedding_matrix(max_vocab_size=params[\"vocab_size\"])\n",
    "embedding_matrix.shape"
   ]
  },
  {
   "cell_type": "markdown",
   "metadata": {
    "colab_type": "text",
    "id": "Ur7KV6z8bgEg"
   },
   "source": [
    "# 2. 模型训练"
   ]
  },
  {
   "cell_type": "markdown",
   "metadata": {
    "colab_type": "text",
    "id": "r5TI8Cf5bgEj"
   },
   "source": [
    "## 2.2 构建Encoder"
   ]
  },
  {
   "cell_type": "code",
   "execution_count": null,
   "metadata": {
    "colab": {},
    "colab_type": "code",
    "id": "Mwl-ouVybgEj"
   },
   "outputs": [],
   "source": [
    "from seq2seq_tf2.seq2seq_model import Seq2Seq"
   ]
  },
  {
   "cell_type": "code",
   "execution_count": null,
   "metadata": {
    "colab": {},
    "colab_type": "code",
    "id": "rVy9ej3obgEl"
   },
   "outputs": [],
   "source": [
    "model=Seq2Seq(params,vocab)"
   ]
  },
  {
   "cell_type": "markdown",
   "metadata": {
    "colab_type": "text",
    "id": "ghj91uiqbgEm"
   },
   "source": [
    "# 2 读取训练好的模型"
   ]
  },
  {
   "cell_type": "code",
   "execution_count": null,
   "metadata": {
    "colab": {},
    "colab_type": "code",
    "id": "Snxlig7fbgEn"
   },
   "outputs": [],
   "source": [
    "from utils.config import checkpoint_dir,checkpoint_prefix"
   ]
  },
  {
   "cell_type": "code",
   "execution_count": null,
   "metadata": {
    "colab": {},
    "colab_type": "code",
    "id": "33RKO7esbgEo"
   },
   "outputs": [],
   "source": [
    "ckpt = tf.train.Checkpoint(Seq2Seq=model)\n",
    "ckpt_manager = tf.train.CheckpointManager(ckpt, checkpoint_dir, max_to_keep=5)"
   ]
  },
  {
   "cell_type": "code",
   "execution_count": 21,
   "metadata": {
    "colab": {
     "base_uri": "https://localhost:8080/",
     "height": 34
    },
    "colab_type": "code",
    "executionInfo": {
     "elapsed": 991,
     "status": "ok",
     "timestamp": 1591350400130,
     "user": {
      "displayName": "罗杰",
      "photoUrl": "https://lh3.googleusercontent.com/a-/AOh14Gg-a_YBdWbEZ2-QLI4_OGvTo7Epwx70DhGLvFws=s64",
      "userId": "01455695120655509307"
     },
     "user_tz": -480
    },
    "id": "ZbGPGREqbgEq",
    "outputId": "ba01d83c-e00c-49af-d115-8a3d5a210ad7"
   },
   "outputs": [
    {
     "name": "stdout",
     "output_type": "stream",
     "text": [
      "Initializing from scratch.\n"
     ]
    }
   ],
   "source": [
    "ckpt.restore(ckpt_manager.latest_checkpoint)\n",
    "if ckpt_manager.latest_checkpoint:\n",
    "    print(\"Restored from {}\".format(ckpt_manager.latest_checkpoint))\n",
    "else:\n",
    "    print(\"Initializing from scratch.\")"
   ]
  },
  {
   "cell_type": "markdown",
   "metadata": {
    "colab_type": "text",
    "id": "618jZOvebgEs"
   },
   "source": [
    "# 3. 训练"
   ]
  },
  {
   "cell_type": "code",
   "execution_count": null,
   "metadata": {
    "colab": {},
    "colab_type": "code",
    "id": "-GFVllXZbgEs"
   },
   "outputs": [],
   "source": [
    "optimizer = tf.keras.optimizers.Adam(name='Adam',learning_rate=0.001)\n",
    "loss_object = tf.keras.losses.SparseCategoricalCrossentropy(from_logits=True, reduction='none')\n",
    "\n",
    "\n",
    "pad_index=vocab.PAD_TOKEN_INDEX\n",
    "\n",
    "def loss_function(real, pred):\n",
    "    mask = tf.math.logical_not(tf.math.equal(real, pad_index))\n",
    "    loss_ = loss_object(real, pred)\n",
    "    mask = tf.cast(mask, dtype=loss_.dtype)\n",
    "    loss_ *= mask\n",
    "    return tf.reduce_mean(loss_)"
   ]
  },
  {
   "cell_type": "code",
   "execution_count": null,
   "metadata": {
    "colab": {},
    "colab_type": "code",
    "id": "IV3KuuCobgEv"
   },
   "outputs": [],
   "source": [
    "@tf.function\n",
    "def train_step(dec_input, targ , enc_hidden):\n",
    "    with tf.GradientTape() as tape:\n",
    "      \n",
    "        # 1. 构建encoder\n",
    "        enc_output, enc_hidden = model.encoder(inp,enc_hidden)\n",
    "        # 2. 复制\n",
    "        dec_hidden = enc_hidden\n",
    "        \n",
    "        # 逐个预测序列 (dec_hidden, enc_output, dec_target)\n",
    "        predictions, _ = model.teacher_decoder(dec_hidden, enc_output, targ)\n",
    "        \n",
    "        batch_loss = loss_function(targ, predictions)\n",
    "\n",
    "        variables = model.trainable_variables\n",
    "    \n",
    "        gradients = tape.gradient(batch_loss, variables)\n",
    "\n",
    "        optimizer.apply_gradients(zip(gradients, variables))\n",
    "\n",
    "        return batch_loss"
   ]
  },
  {
   "cell_type": "code",
   "execution_count": null,
   "metadata": {
    "colab": {
     "base_uri": "https://localhost:8080/",
     "height": 1000
    },
    "colab_type": "code",
    "id": "NzRkRi7lbgEw",
    "outputId": "bf475884-9923-42cd-bc48-ff0880a325fa",
    "scrolled": true
   },
   "outputs": [
    {
     "name": "stdout",
     "output_type": "stream",
     "text": [
      "Latest checkpoint restored!!\n",
      "Epoch 1 Batch 0 Loss 1.5986\n",
      "Epoch 1 Batch 20 Loss 1.9914\n",
      "Epoch 1 Batch 40 Loss 1.6394\n",
      "Epoch 1 Batch 60 Loss 1.7797\n",
      "Epoch 1 Batch 80 Loss 1.9847\n",
      "Epoch 1 Batch 100 Loss 1.5832\n",
      "Epoch 1 Batch 120 Loss 1.5847\n",
      "Epoch 1 Batch 140 Loss 1.6309\n",
      "Epoch 1 Batch 160 Loss 1.7777\n",
      "Epoch 1 Batch 180 Loss 1.4987\n",
      "Epoch 1 Batch 200 Loss 1.7672\n",
      "Epoch 1 Batch 220 Loss 1.7807\n",
      "Epoch 1 Batch 240 Loss 1.9074\n",
      "Epoch 1 Batch 260 Loss 1.7454\n",
      "Epoch 1 Batch 280 Loss 1.4510\n",
      "Epoch 1 Batch 300 Loss 2.0057\n",
      "Epoch 1 Batch 320 Loss 1.5629\n",
      "Epoch 1 Batch 340 Loss 1.5472\n",
      "Epoch 1 Batch 360 Loss 1.5364\n",
      "Epoch 1 Batch 380 Loss 1.5812\n",
      "Epoch 1 Batch 400 Loss 1.6733\n",
      "Epoch 1 Batch 420 Loss 1.6366\n",
      "Epoch 1 Batch 440 Loss 1.9129\n",
      "Epoch 1 Batch 460 Loss 1.7522\n",
      "Epoch 1 Batch 480 Loss 1.7613\n",
      "Epoch 1 Batch 500 Loss 1.6329\n",
      "Epoch 1 Batch 520 Loss 1.7082\n",
      "Epoch 1 Batch 540 Loss 1.6982\n",
      "Epoch 1 Batch 560 Loss 1.8837\n",
      "Epoch 1 Batch 580 Loss 1.5187\n",
      "Epoch 1 Batch 600 Loss 1.6717\n",
      "Epoch 1 Batch 620 Loss 1.5868\n",
      "Epoch 1 Batch 640 Loss 1.7756\n",
      "Epoch 1 Batch 660 Loss 1.7841\n",
      "Epoch 1 Batch 680 Loss 1.6248\n",
      "Epoch 1 Batch 700 Loss 1.8978\n",
      "Epoch 1 Batch 720 Loss 1.7672\n",
      "Epoch 1 Batch 740 Loss 1.9831\n",
      "Epoch 1 Batch 760 Loss 1.8933\n",
      "Epoch 1 Batch 780 Loss 1.8563\n",
      "Epoch 1 Batch 800 Loss 1.7717\n",
      "Epoch 1 Batch 820 Loss 1.7488\n",
      "Epoch 1 Batch 840 Loss 1.7780\n",
      "Epoch 1 Batch 860 Loss 1.7169\n",
      "Epoch 1 Batch 880 Loss 1.5342\n",
      "Epoch 1 Batch 900 Loss 1.9175\n",
      "Epoch 1 Batch 920 Loss 1.6948\n",
      "Epoch 1 Batch 940 Loss 1.4722\n",
      "Epoch 1 Batch 960 Loss 1.4448\n",
      "Epoch 1 Batch 980 Loss 1.6137\n",
      "Epoch 1 Batch 1000 Loss 1.9054\n",
      "Epoch 1 Batch 1020 Loss 1.6863\n",
      "Epoch 1 Batch 1040 Loss 1.6788\n",
      "Epoch 1 Batch 1060 Loss 1.8467\n",
      "Epoch 1 Batch 1080 Loss 1.7247\n",
      "Epoch 1 Batch 1100 Loss 1.5241\n",
      "Epoch 1 Batch 1120 Loss 2.0349\n",
      "Epoch 1 Batch 1140 Loss 1.8283\n",
      "Epoch 1 Batch 1160 Loss 1.7827\n",
      "Epoch 1 Batch 1180 Loss 1.6619\n",
      "Epoch 1 Batch 1200 Loss 1.8794\n",
      "Epoch 1 Batch 1220 Loss 1.5584\n",
      "Epoch 1 Batch 1240 Loss 1.6994\n",
      "Epoch 1 Batch 1260 Loss 1.6844\n",
      "Epoch 1 Batch 1280 Loss 1.6546\n",
      "Saving checkpoint for epoch 1 at /content/drive/My Drive/kaikeba/project01/code/data/checkpoints/training_checkpoints_seq2seq/ckpt-3\n",
      "Epoch 1 Loss 1.7175\n",
      "Time taken for 1 epoch 1607.855223417282 sec\n",
      "\n",
      "Epoch 2 Batch 0 Loss 1.2214\n",
      "Epoch 2 Batch 20 Loss 1.8102\n",
      "Epoch 2 Batch 40 Loss 1.4501\n",
      "Epoch 2 Batch 60 Loss 1.4396\n",
      "Epoch 2 Batch 80 Loss 1.5967\n",
      "Epoch 2 Batch 100 Loss 1.6689\n",
      "Epoch 2 Batch 120 Loss 1.8159\n",
      "Epoch 2 Batch 140 Loss 1.5965\n",
      "Epoch 2 Batch 160 Loss 1.6652\n",
      "Epoch 2 Batch 180 Loss 1.6408\n",
      "Epoch 2 Batch 200 Loss 1.6301\n",
      "Epoch 2 Batch 220 Loss 1.5776\n",
      "Epoch 2 Batch 240 Loss 1.3485\n",
      "Epoch 2 Batch 260 Loss 1.8063\n",
      "Epoch 2 Batch 280 Loss 1.4710\n",
      "Epoch 2 Batch 300 Loss 1.5549\n",
      "Epoch 2 Batch 320 Loss 1.4670\n",
      "Epoch 2 Batch 340 Loss 1.7009\n",
      "Epoch 2 Batch 360 Loss 1.4767\n",
      "Epoch 2 Batch 380 Loss 1.5185\n",
      "Epoch 2 Batch 400 Loss 1.6379\n",
      "Epoch 2 Batch 420 Loss 1.4816\n",
      "Epoch 2 Batch 440 Loss 1.4869\n",
      "Epoch 2 Batch 460 Loss 1.6692\n",
      "Epoch 2 Batch 480 Loss 1.4791\n",
      "Epoch 2 Batch 500 Loss 1.6608\n",
      "Epoch 2 Batch 520 Loss 1.3987\n",
      "Epoch 2 Batch 540 Loss 1.5961\n",
      "Epoch 2 Batch 560 Loss 1.4986\n",
      "Epoch 2 Batch 580 Loss 1.6016\n",
      "Epoch 2 Batch 600 Loss 1.6178\n",
      "Epoch 2 Batch 620 Loss 1.4462\n"
     ]
    }
   ],
   "source": [
    "epochs = 2 # params[\"epochs\"]\n",
    "# 如果检查点存在，则恢复最新的检查点。\n",
    "if ckpt_manager.latest_checkpoint:\n",
    "    ckpt.restore(ckpt_manager.latest_checkpoint)\n",
    "    print ('Latest checkpoint restored!!')\n",
    "    \n",
    "for epoch in range(epochs):\n",
    "    start = time.time()\n",
    "    enc_hidden = model.encoder.initialize_hidden_state()\n",
    "    total_loss = 0\n",
    "\n",
    "    for (batch, (inp, targ)) in enumerate(dataset.take(steps_per_epoch)):\n",
    "        batch_loss = train_step(inp, targ,enc_hidden)\n",
    "        total_loss += batch_loss\n",
    "\n",
    "        if batch % 20 == 0:\n",
    "            print('Epoch {} Batch {} Loss {:.4f}'.format(epoch + 1,\n",
    "                                                         batch,\n",
    "                                                         batch_loss.numpy()))\n",
    "    # saving (checkpoint) the model every 2 epochs\n",
    "    if (epoch + 1) % 1 == 0:\n",
    "        ckpt_save_path = ckpt_manager.save()\n",
    "        print ('Saving checkpoint for epoch {} at {}'.format(epoch+1,\n",
    "                                                             ckpt_save_path))\n",
    "\n",
    "    print('Epoch {} Loss {:.4f}'.format(epoch + 1,\n",
    "                                      total_loss / steps_per_epoch))\n",
    "    print('Time taken for 1 epoch {} sec\\n'.format(time.time() - start))"
   ]
  },
  {
   "cell_type": "markdown",
   "metadata": {
    "colab_type": "text",
    "id": "6_f-9cVwbgEy"
   },
   "source": [
    "Time taken for 1 epoch 524.4936063289642 sec"
   ]
  },
  {
   "cell_type": "markdown",
   "metadata": {
    "colab_type": "text",
    "id": "TXugRKLwbgEy"
   },
   "source": [
    "# 载入模型"
   ]
  },
  {
   "cell_type": "code",
   "execution_count": null,
   "metadata": {
    "colab": {
     "base_uri": "https://localhost:8080/",
     "height": 34
    },
    "colab_type": "code",
    "executionInfo": {
     "elapsed": 1189,
     "status": "ok",
     "timestamp": 1591348931943,
     "user": {
      "displayName": "罗杰",
      "photoUrl": "https://lh3.googleusercontent.com/a-/AOh14Gg-a_YBdWbEZ2-QLI4_OGvTo7Epwx70DhGLvFws=s64",
      "userId": "01455695120655509307"
     },
     "user_tz": -480
    },
    "id": "1ABzkQTmbgEz",
    "outputId": "bb038ac5-5108-45a6-bd26-0514f73ca70d"
   },
   "outputs": [
    {
     "name": "stdout",
     "output_type": "stream",
     "text": [
      "Restored from /content/drive/My Drive/kaikeba/project01/code/data/checkpoints/training_checkpoints_seq2seq/ckpt-2\n"
     ]
    }
   ],
   "source": [
    "ckpt.restore(ckpt_manager.latest_checkpoint)\n",
    "if ckpt_manager.latest_checkpoint:\n",
    "    print(\"Restored from {}\".format(ckpt_manager.latest_checkpoint))\n",
    "else:\n",
    "    print(\"Initializing from scratch.\")"
   ]
  },
  {
   "cell_type": "markdown",
   "metadata": {
    "colab_type": "text",
    "id": "xavHMNJxbgE0"
   },
   "source": [
    "# 预测"
   ]
  },
  {
   "cell_type": "code",
   "execution_count": null,
   "metadata": {
    "colab": {},
    "colab_type": "code",
    "id": "fpCTVj8rbgE1"
   },
   "outputs": [],
   "source": [
    "def evaluate(model,inputs,params):\n",
    "    print('inputs:{}'.format(inputs))\n",
    "    attention_plot = np.zeros((params['max_enc_len'],params['max_dec_len'],))\n",
    "    \n",
    "    inputs = tf.convert_to_tensor(inputs)\n",
    "\n",
    "    pred_result = ''\n",
    "    hidden = [tf.zeros((1, params['enc_units']))]\n",
    "    enc_output, enc_hidden = model.encoder(inputs, hidden)\n",
    "\n",
    "    dec_hidden = enc_hidden\n",
    "    \n",
    "    dec_input = tf.expand_dims([vocab.START_DECODING_INDEX], 0)\n",
    "\n",
    "    for t in range(params['max_dec_len']):\n",
    "        predictions, dec_hidden, attention_weights = model.decoder(dec_input,\n",
    "                                                                  dec_hidden,\n",
    "                                                                  enc_output)\n",
    "        # storing the attention weights to plot later on\n",
    "        attention_weights = tf.reshape(attention_weights, (-1, ))\n",
    "        attention_plot[t] = attention_weights.numpy()\n",
    "        predicted_id = tf.argmax(predictions[0]).numpy()\n",
    "        pred_result += vocab.id2word[predicted_id] + ' '\n",
    "        if predicted_id == vocab.STOP_DECODING_INDEX:\n",
    "            return pred_result, attention_plot\n",
    "\n",
    "        # the predicted ID is fed back into the model\n",
    "        dec_input = tf.expand_dims([predicted_id], 0)\n",
    "\n",
    "    return pred_result, attention_plot"
   ]
  },
  {
   "cell_type": "code",
   "execution_count": null,
   "metadata": {
    "colab": {},
    "colab_type": "code",
    "id": "n0P_5pGzbgE2"
   },
   "outputs": [],
   "source": [
    "def translate(sentence):\n",
    "    \n",
    "    print('Input: %s' % (sentence))\n",
    "    sentence_index = preprocess_sentence(sentence,params['max_dec_len'],vocab.word2id)\n",
    "    pred_result, attention_plot = evaluate(model,sentence_index,params)\n",
    "\n",
    "    print('sentence_index: %s' % (sentence_index))\n",
    "    print('Predicted translation: {}'.format(pred_result))\n",
    "    read_result=[vocab.id2word[index] for index in sentence_index.tolist()[0]]\n",
    "    attention_plot = attention_plot[:len(pred_result.split(' ')), :len(read_result)]\n",
    "    plot_attention(attention_plot, read_result, pred_result.split(' '))"
   ]
  },
  {
   "cell_type": "markdown",
   "metadata": {
    "colab_type": "text",
    "id": "Hlvkm-_SbgE4"
   },
   "source": [
    "## Restore the latest checkpoint and test"
   ]
  },
  {
   "cell_type": "code",
   "execution_count": null,
   "metadata": {
    "colab": {},
    "colab_type": "code",
    "id": "nI-5fimVbgE4"
   },
   "outputs": [],
   "source": [
    "sentence='哈佛H6换了正时皮带后报失火故障码是什么问题,技师说：你好！这种情况下我们就需要检验一下正时是否正确，可以通过测量发动机缸压来判断正时|车主说：正时确认对齐了|技师说：这款发动机是不是有平衡轴的？平衡轴也是需要对记号的,检查正时，测量缸压'"
   ]
  },
  {
   "cell_type": "code",
   "execution_count": null,
   "metadata": {
    "colab": {},
    "colab_type": "code",
    "id": "ns_UV6jfI41D"
   },
   "outputs": [],
   "source": [
    "translate(sentence)"
   ]
  },
  {
   "cell_type": "markdown",
   "metadata": {
    "colab_type": "text",
    "id": "yVbze51JbgE8"
   },
   "source": [
    "# 批量预测"
   ]
  },
  {
   "cell_type": "code",
   "execution_count": null,
   "metadata": {
    "colab": {},
    "colab_type": "code",
    "id": "J2ttQ095bgE8"
   },
   "outputs": [],
   "source": [
    "def batch_predict(inps):\n",
    "    # 判断输入长度\n",
    "    batch_size=len(inps)\n",
    "    # 开辟结果存储list\n",
    "    preidicts=[''] * batch_size\n",
    "    \n",
    "    inps = tf.convert_to_tensor(inps)\n",
    "    # 0. 初始化隐藏层输入\n",
    "    hidden = [tf.zeros((batch_size, units))]\n",
    "    # 1. 构建encoder\n",
    "    enc_output, enc_hidden = model.encoder(inps, hidden)\n",
    "    # 2. 复制\n",
    "    dec_hidden = enc_hidden\n",
    "    # 3. <START> * BATCH_SIZE \n",
    "    dec_input = tf.expand_dims([vocab['<START>']] * batch_size, 1)\n",
    "    \n",
    "    context_vector, _ = model.attention(dec_hidden, enc_output)\n",
    "    # Teacher forcing - feeding the target as the next input\n",
    "    for t in range(max_length_targ):\n",
    "        # 计算上下文\n",
    "        context_vector, attention_weights = model.attention(dec_hidden, enc_output)\n",
    "        # 单步预测\n",
    "        predictions, dec_hidden = model.decoder(dec_input,\n",
    "                                         dec_hidden,\n",
    "                                         enc_output,\n",
    "                                         context_vector)\n",
    "        \n",
    "        # id转换 贪婪搜索\n",
    "        predicted_ids = tf.argmax(predictions,axis=1).numpy()\n",
    "        \n",
    "        \n",
    "        for index,predicted_id in enumerate(predicted_ids):\n",
    "            preidicts[index]+= reverse_vocab[predicted_id] + ' '\n",
    "        \n",
    "        # using teacher forcing\n",
    "        dec_input = tf.expand_dims(predicted_ids, 1)\n",
    "\n",
    "    results=[]\n",
    "    for preidict in preidicts:\n",
    "        # 去掉句子前后空格\n",
    "        preidict=preidict.strip()\n",
    "        # 句子小于max len就结束了 截断\n",
    "        if '<STOP>' in preidict:\n",
    "            # 截断stop\n",
    "            preidict=preidict[:preidict.index('<STOP>')]\n",
    "        # 保存结果\n",
    "        results.append(preidict)\n",
    "    return results"
   ]
  },
  {
   "cell_type": "code",
   "execution_count": null,
   "metadata": {
    "colab": {},
    "colab_type": "code",
    "id": "QuvBgtt1bgE-"
   },
   "outputs": [],
   "source": [
    "from tqdm import tqdm\n",
    "import math"
   ]
  },
  {
   "cell_type": "code",
   "execution_count": null,
   "metadata": {
    "colab": {},
    "colab_type": "code",
    "id": "34lp2Sf5bgE_"
   },
   "outputs": [],
   "source": [
    "def model_predict(data_X,batch_size):\n",
    "    # 存储结果\n",
    "    results=[]\n",
    "    # 样本数量\n",
    "    sample_size=len(data_X)\n",
    "    # batch 操作轮数 math.ceil向上取整 小数 +1\n",
    "    # 因为最后一个batch可能不足一个batch size 大小 ,但是依然需要计算  \n",
    "    steps_epoch = math.ceil(sample_size/batch_size)\n",
    "    # [0,steps_epoch)\n",
    "    for i in tqdm(range(steps_epoch)):\n",
    "        batch_data = data_X[i*batch_size:(i+1)*batch_size]\n",
    "        results+=batch_predict(batch_data)\n",
    "    return results"
   ]
  },
  {
   "cell_type": "code",
   "execution_count": null,
   "metadata": {
    "colab": {},
    "colab_type": "code",
    "id": "yPyMABi9bgFA",
    "outputId": "4d4398ce-6250-4d3c-b1d3-767d5898d851",
    "scrolled": true
   },
   "outputs": [
    {
     "name": "stderr",
     "output_type": "stream",
     "text": [
      "\n",
      "  0%|          | 0/313 [00:00<?, ?it/s]\u001b[A\n",
      "  0%|          | 1/313 [00:00<01:55,  2.70it/s]\u001b[A\n",
      "  1%|          | 2/313 [00:00<01:53,  2.74it/s]\u001b[A\n",
      "  1%|          | 3/313 [00:01<01:51,  2.78it/s]\u001b[A\n",
      "  1%|▏         | 4/313 [00:01<01:50,  2.79it/s]\u001b[A\n",
      "  2%|▏         | 5/313 [00:01<01:50,  2.80it/s]\u001b[A\n",
      "  2%|▏         | 6/313 [00:02<01:49,  2.81it/s]\u001b[A\n",
      "  2%|▏         | 7/313 [00:02<01:48,  2.81it/s]\u001b[A\n",
      "  3%|▎         | 8/313 [00:02<01:48,  2.81it/s]\u001b[A\n",
      "  3%|▎         | 9/313 [00:03<01:48,  2.81it/s]\u001b[A\n",
      "  3%|▎         | 10/313 [00:03<01:47,  2.81it/s]\u001b[A\n",
      "  4%|▎         | 11/313 [00:03<01:47,  2.82it/s]\u001b[A\n",
      "  4%|▍         | 12/313 [00:04<01:46,  2.82it/s]\u001b[A\n",
      "  4%|▍         | 13/313 [00:04<01:45,  2.83it/s]\u001b[A\n",
      "  4%|▍         | 14/313 [00:04<01:45,  2.85it/s]\u001b[A\n",
      "  5%|▍         | 15/313 [00:05<01:44,  2.86it/s]\u001b[A\n",
      "  5%|▌         | 16/313 [00:05<01:43,  2.86it/s]\u001b[A\n",
      "  5%|▌         | 17/313 [00:06<01:43,  2.87it/s]\u001b[A\n",
      "  6%|▌         | 18/313 [00:06<01:43,  2.85it/s]\u001b[A\n",
      "  6%|▌         | 19/313 [00:06<01:43,  2.85it/s]\u001b[A\n",
      "  6%|▋         | 20/313 [00:07<01:43,  2.84it/s]\u001b[A\n",
      "  7%|▋         | 21/313 [00:07<01:42,  2.84it/s]\u001b[A\n",
      "  7%|▋         | 22/313 [00:07<01:42,  2.84it/s]\u001b[A\n",
      "  7%|▋         | 23/313 [00:08<01:42,  2.83it/s]\u001b[A\n",
      "  8%|▊         | 24/313 [00:08<01:41,  2.85it/s]\u001b[A\n",
      "  8%|▊         | 25/313 [00:08<01:41,  2.84it/s]\u001b[A\n",
      "  8%|▊         | 26/313 [00:09<01:41,  2.84it/s]\u001b[A\n",
      "  9%|▊         | 27/313 [00:09<01:40,  2.84it/s]\u001b[A\n",
      "  9%|▉         | 28/313 [00:09<01:39,  2.85it/s]\u001b[A\n",
      "  9%|▉         | 29/313 [00:10<01:39,  2.86it/s]\u001b[A\n",
      " 10%|▉         | 30/313 [00:10<01:38,  2.86it/s]\u001b[A\n",
      " 10%|▉         | 31/313 [00:10<01:38,  2.86it/s]\u001b[A\n",
      " 10%|█         | 32/313 [00:11<01:37,  2.87it/s]\u001b[A\n",
      " 11%|█         | 33/313 [00:11<01:37,  2.87it/s]\u001b[A\n",
      " 11%|█         | 34/313 [00:11<01:37,  2.87it/s]\u001b[A\n",
      " 11%|█         | 35/313 [00:12<01:36,  2.87it/s]\u001b[A\n",
      " 12%|█▏        | 36/313 [00:12<01:36,  2.87it/s]\u001b[A\n",
      " 12%|█▏        | 37/313 [00:13<01:36,  2.85it/s]\u001b[A\n",
      " 12%|█▏        | 38/313 [00:13<01:36,  2.84it/s]\u001b[A\n",
      " 12%|█▏        | 39/313 [00:13<01:36,  2.83it/s]\u001b[A\n",
      " 13%|█▎        | 40/313 [00:14<01:36,  2.82it/s]\u001b[A\n",
      " 13%|█▎        | 41/313 [00:14<01:36,  2.83it/s]\u001b[A\n",
      " 13%|█▎        | 42/313 [00:14<01:35,  2.84it/s]\u001b[A\n",
      " 14%|█▎        | 43/313 [00:15<01:34,  2.85it/s]\u001b[A\n",
      " 14%|█▍        | 44/313 [00:15<01:34,  2.85it/s]\u001b[A\n",
      " 14%|█▍        | 45/313 [00:15<01:33,  2.86it/s]\u001b[A\n",
      " 15%|█▍        | 46/313 [00:16<01:33,  2.86it/s]\u001b[A\n",
      " 15%|█▌        | 47/313 [00:16<01:32,  2.87it/s]\u001b[A\n",
      " 15%|█▌        | 48/313 [00:16<01:32,  2.87it/s]\u001b[A\n",
      " 16%|█▌        | 49/313 [00:17<01:32,  2.87it/s]\u001b[A\n",
      " 16%|█▌        | 50/313 [00:17<01:31,  2.87it/s]\u001b[A\n",
      " 16%|█▋        | 51/313 [00:17<01:31,  2.87it/s]\u001b[A\n",
      " 17%|█▋        | 52/313 [00:18<01:31,  2.86it/s]\u001b[A\n",
      " 17%|█▋        | 53/313 [00:18<01:30,  2.86it/s]\u001b[A\n",
      " 17%|█▋        | 54/313 [00:18<01:30,  2.85it/s]\u001b[A\n",
      " 18%|█▊        | 55/313 [00:19<01:30,  2.84it/s]\u001b[A\n",
      " 18%|█▊        | 56/313 [00:19<01:30,  2.83it/s]\u001b[A\n",
      " 18%|█▊        | 57/313 [00:20<01:30,  2.83it/s]\u001b[A\n",
      " 19%|█▊        | 58/313 [00:20<01:29,  2.85it/s]\u001b[A\n",
      " 19%|█▉        | 59/313 [00:20<01:29,  2.85it/s]\u001b[A\n",
      " 19%|█▉        | 60/313 [00:21<01:28,  2.85it/s]\u001b[A\n",
      " 19%|█▉        | 61/313 [00:21<01:28,  2.85it/s]\u001b[A\n",
      " 20%|█▉        | 62/313 [00:21<01:28,  2.84it/s]\u001b[A\n",
      " 20%|██        | 63/313 [00:22<01:28,  2.83it/s]\u001b[A\n",
      " 20%|██        | 64/313 [00:22<01:27,  2.84it/s]\u001b[A\n",
      " 21%|██        | 65/313 [00:22<01:27,  2.84it/s]\u001b[A\n",
      " 21%|██        | 66/313 [00:23<01:26,  2.85it/s]\u001b[A\n",
      " 21%|██▏       | 67/313 [00:23<01:26,  2.85it/s]\u001b[A\n",
      " 22%|██▏       | 68/313 [00:23<01:26,  2.84it/s]\u001b[A\n",
      " 22%|██▏       | 69/313 [00:24<01:25,  2.84it/s]\u001b[A\n",
      " 22%|██▏       | 70/313 [00:24<01:25,  2.84it/s]\u001b[A\n",
      " 23%|██▎       | 71/313 [00:24<01:25,  2.84it/s]\u001b[A\n",
      " 23%|██▎       | 72/313 [00:25<01:24,  2.84it/s]\u001b[A\n",
      " 23%|██▎       | 73/313 [00:25<01:24,  2.83it/s]\u001b[A\n",
      " 24%|██▎       | 74/313 [00:26<01:23,  2.85it/s]\u001b[A\n",
      " 24%|██▍       | 75/313 [00:26<01:23,  2.84it/s]\u001b[A\n",
      " 24%|██▍       | 76/313 [00:26<01:23,  2.83it/s]\u001b[A\n",
      " 25%|██▍       | 77/313 [00:27<01:23,  2.84it/s]\u001b[A\n",
      " 25%|██▍       | 78/313 [00:27<01:22,  2.85it/s]\u001b[A\n",
      " 25%|██▌       | 79/313 [00:27<01:21,  2.86it/s]\u001b[A\n",
      " 26%|██▌       | 80/313 [00:28<01:21,  2.86it/s]\u001b[A\n",
      " 26%|██▌       | 81/313 [00:28<01:20,  2.87it/s]\u001b[A\n",
      " 26%|██▌       | 82/313 [00:28<01:20,  2.87it/s]\u001b[A\n",
      " 27%|██▋       | 83/313 [00:29<01:20,  2.87it/s]\u001b[A\n",
      " 27%|██▋       | 84/313 [00:29<01:19,  2.87it/s]\u001b[A\n",
      " 27%|██▋       | 85/313 [00:29<01:19,  2.87it/s]\u001b[A\n",
      " 27%|██▋       | 86/313 [00:30<01:19,  2.87it/s]\u001b[A\n",
      " 28%|██▊       | 87/313 [00:30<01:18,  2.87it/s]\u001b[A\n",
      " 28%|██▊       | 88/313 [00:30<01:18,  2.87it/s]\u001b[A\n",
      " 28%|██▊       | 89/313 [00:31<01:17,  2.87it/s]\u001b[A\n",
      " 29%|██▉       | 90/313 [00:31<01:17,  2.87it/s]\u001b[A\n",
      " 29%|██▉       | 91/313 [00:31<01:17,  2.87it/s]\u001b[A\n",
      " 29%|██▉       | 92/313 [00:32<01:17,  2.86it/s]\u001b[A\n",
      " 30%|██▉       | 93/313 [00:32<01:16,  2.86it/s]\u001b[A\n",
      " 30%|███       | 94/313 [00:33<01:16,  2.85it/s]\u001b[A\n",
      " 30%|███       | 95/313 [00:33<01:16,  2.86it/s]\u001b[A\n",
      " 31%|███       | 96/313 [00:33<01:15,  2.86it/s]\u001b[A\n",
      " 31%|███       | 97/313 [00:34<01:15,  2.86it/s]\u001b[A\n",
      " 31%|███▏      | 98/313 [00:34<01:15,  2.86it/s]\u001b[A\n",
      " 32%|███▏      | 99/313 [00:34<01:15,  2.85it/s]\u001b[A\n",
      " 32%|███▏      | 100/313 [00:35<01:14,  2.85it/s]\u001b[A\n",
      " 32%|███▏      | 101/313 [00:35<01:14,  2.84it/s]\u001b[A\n",
      " 33%|███▎      | 102/313 [00:35<01:14,  2.84it/s]\u001b[A\n",
      " 33%|███▎      | 103/313 [00:36<01:14,  2.83it/s]\u001b[A\n",
      " 33%|███▎      | 104/313 [00:36<01:14,  2.82it/s]\u001b[A\n",
      " 34%|███▎      | 105/313 [00:36<01:13,  2.82it/s]\u001b[A\n",
      " 34%|███▍      | 106/313 [00:37<01:13,  2.82it/s]\u001b[A\n",
      " 34%|███▍      | 107/313 [00:37<01:12,  2.83it/s]\u001b[A\n",
      " 35%|███▍      | 108/313 [00:37<01:12,  2.83it/s]\u001b[A\n",
      " 35%|███▍      | 109/313 [00:38<01:12,  2.83it/s]\u001b[A\n",
      " 35%|███▌      | 110/313 [00:38<01:11,  2.83it/s]\u001b[A\n",
      " 35%|███▌      | 111/313 [00:38<01:11,  2.84it/s]\u001b[A\n",
      " 36%|███▌      | 112/313 [00:39<01:10,  2.84it/s]\u001b[A\n",
      " 36%|███▌      | 113/313 [00:39<01:10,  2.83it/s]\u001b[A\n",
      " 36%|███▋      | 114/313 [00:40<01:09,  2.85it/s]\u001b[A\n",
      " 37%|███▋      | 115/313 [00:40<01:09,  2.85it/s]\u001b[A\n",
      " 37%|███▋      | 116/313 [00:40<01:08,  2.86it/s]\u001b[A\n",
      " 37%|███▋      | 117/313 [00:41<01:08,  2.84it/s]\u001b[A\n",
      " 38%|███▊      | 118/313 [00:41<01:08,  2.83it/s]\u001b[A\n",
      " 38%|███▊      | 119/313 [00:41<01:08,  2.83it/s]\u001b[A\n",
      " 38%|███▊      | 120/313 [00:42<01:08,  2.82it/s]\u001b[A\n",
      " 39%|███▊      | 121/313 [00:42<01:08,  2.82it/s]\u001b[A\n",
      " 39%|███▉      | 122/313 [00:42<01:07,  2.82it/s]\u001b[A\n",
      " 39%|███▉      | 123/313 [00:43<01:07,  2.81it/s]\u001b[A\n",
      " 40%|███▉      | 124/313 [00:43<01:07,  2.82it/s]\u001b[A\n",
      " 40%|███▉      | 125/313 [00:43<01:06,  2.83it/s]\u001b[A\n",
      " 40%|████      | 126/313 [00:44<01:05,  2.84it/s]\u001b[A\n",
      " 41%|████      | 127/313 [00:44<01:05,  2.85it/s]\u001b[A\n",
      " 41%|████      | 128/313 [00:44<01:04,  2.85it/s]\u001b[A\n",
      " 41%|████      | 129/313 [00:45<01:04,  2.84it/s]\u001b[A\n",
      " 42%|████▏     | 130/313 [00:45<01:04,  2.83it/s]\u001b[A\n",
      " 42%|████▏     | 131/313 [00:46<01:04,  2.82it/s]\u001b[A\n",
      " 42%|████▏     | 132/313 [00:46<01:04,  2.82it/s]\u001b[A\n",
      " 42%|████▏     | 133/313 [00:46<01:03,  2.81it/s]\u001b[A\n",
      " 43%|████▎     | 134/313 [00:47<01:03,  2.83it/s]\u001b[A\n",
      " 43%|████▎     | 135/313 [00:47<01:02,  2.84it/s]\u001b[A\n",
      " 43%|████▎     | 136/313 [00:47<01:02,  2.85it/s]\u001b[A\n",
      " 44%|████▍     | 137/313 [00:48<01:01,  2.86it/s]\u001b[A\n",
      " 44%|████▍     | 138/313 [00:48<01:01,  2.86it/s]\u001b[A\n",
      " 44%|████▍     | 139/313 [00:48<01:00,  2.86it/s]\u001b[A\n",
      " 45%|████▍     | 140/313 [00:49<01:00,  2.87it/s]\u001b[A\n",
      " 45%|████▌     | 141/313 [00:49<00:59,  2.87it/s]\u001b[A\n",
      " 45%|████▌     | 142/313 [00:49<00:59,  2.87it/s]\u001b[A\n",
      " 46%|████▌     | 143/313 [00:50<00:59,  2.87it/s]\u001b[A\n",
      " 46%|████▌     | 144/313 [00:50<00:58,  2.87it/s]\u001b[A\n",
      " 46%|████▋     | 145/313 [00:50<00:58,  2.87it/s]\u001b[A\n",
      " 47%|████▋     | 146/313 [00:51<00:58,  2.86it/s]\u001b[A\n",
      " 47%|████▋     | 147/313 [00:51<00:58,  2.85it/s]\u001b[A\n",
      " 47%|████▋     | 148/313 [00:52<00:57,  2.85it/s]\u001b[A\n",
      " 48%|████▊     | 149/313 [00:52<00:57,  2.85it/s]\u001b[A\n",
      " 48%|████▊     | 150/313 [00:52<00:57,  2.85it/s]\u001b[A\n",
      " 48%|████▊     | 151/313 [00:53<00:56,  2.84it/s]\u001b[A\n",
      " 49%|████▊     | 152/313 [00:53<00:56,  2.84it/s]\u001b[A\n",
      " 49%|████▉     | 153/313 [00:53<00:56,  2.84it/s]\u001b[A\n",
      " 49%|████▉     | 154/313 [00:54<00:56,  2.84it/s]\u001b[A\n",
      " 50%|████▉     | 155/313 [00:54<00:55,  2.83it/s]\u001b[A\n",
      " 50%|████▉     | 156/313 [00:54<00:55,  2.83it/s]\u001b[A\n",
      " 50%|█████     | 157/313 [00:55<00:55,  2.83it/s]\u001b[A\n",
      " 50%|█████     | 158/313 [00:55<00:54,  2.83it/s]\u001b[A\n",
      " 51%|█████     | 159/313 [00:55<00:54,  2.83it/s]\u001b[A\n",
      " 51%|█████     | 160/313 [00:56<00:54,  2.83it/s]\u001b[A\n",
      " 51%|█████▏    | 161/313 [00:56<00:53,  2.83it/s]\u001b[A\n",
      " 52%|█████▏    | 162/313 [00:56<00:53,  2.83it/s]\u001b[A\n",
      " 52%|█████▏    | 163/313 [00:57<00:53,  2.83it/s]\u001b[A\n",
      " 52%|█████▏    | 164/313 [00:57<00:52,  2.83it/s]\u001b[A\n",
      " 53%|█████▎    | 165/313 [00:58<00:52,  2.83it/s]\u001b[A\n",
      " 53%|█████▎    | 166/313 [00:58<00:51,  2.83it/s]\u001b[A\n",
      " 53%|█████▎    | 167/313 [00:58<00:51,  2.82it/s]\u001b[A\n",
      " 54%|█████▎    | 168/313 [00:59<00:51,  2.82it/s]\u001b[A\n",
      " 54%|█████▍    | 169/313 [00:59<00:51,  2.81it/s]\u001b[A\n",
      " 54%|█████▍    | 170/313 [00:59<00:50,  2.81it/s]\u001b[A\n",
      " 55%|█████▍    | 171/313 [01:00<00:50,  2.81it/s]\u001b[A\n",
      " 55%|█████▍    | 172/313 [01:00<00:50,  2.81it/s]\u001b[A\n",
      " 55%|█████▌    | 173/313 [01:00<00:49,  2.81it/s]\u001b[A\n",
      " 56%|█████▌    | 174/313 [01:01<00:49,  2.81it/s]\u001b[A\n",
      " 56%|█████▌    | 175/313 [01:01<00:49,  2.81it/s]\u001b[A\n",
      " 56%|█████▌    | 176/313 [01:01<00:48,  2.81it/s]\u001b[A\n",
      " 57%|█████▋    | 177/313 [01:02<00:48,  2.82it/s]\u001b[A\n",
      " 57%|█████▋    | 178/313 [01:02<00:47,  2.82it/s]\u001b[A\n",
      " 57%|█████▋    | 179/313 [01:02<00:47,  2.82it/s]\u001b[A\n",
      " 58%|█████▊    | 180/313 [01:03<00:47,  2.82it/s]\u001b[A\n",
      " 58%|█████▊    | 181/313 [01:03<00:46,  2.83it/s]\u001b[A\n",
      " 58%|█████▊    | 182/313 [01:04<00:46,  2.83it/s]\u001b[A\n",
      " 58%|█████▊    | 183/313 [01:04<00:45,  2.83it/s]\u001b[A\n",
      " 59%|█████▉    | 184/313 [01:04<00:45,  2.83it/s]\u001b[A\n",
      " 59%|█████▉    | 185/313 [01:05<00:45,  2.84it/s]\u001b[A\n",
      " 59%|█████▉    | 186/313 [01:05<00:44,  2.83it/s]\u001b[A\n",
      " 60%|█████▉    | 187/313 [01:05<00:44,  2.82it/s]\u001b[A\n",
      " 60%|██████    | 188/313 [01:06<00:44,  2.82it/s]\u001b[A\n",
      " 60%|██████    | 189/313 [01:06<00:43,  2.82it/s]\u001b[A\n",
      " 61%|██████    | 190/313 [01:06<00:43,  2.82it/s]\u001b[A\n",
      " 61%|██████    | 191/313 [01:07<00:43,  2.82it/s]\u001b[A\n",
      " 61%|██████▏   | 192/313 [01:07<00:42,  2.82it/s]\u001b[A\n",
      " 62%|██████▏   | 193/313 [01:07<00:42,  2.82it/s]\u001b[A\n",
      " 62%|██████▏   | 194/313 [01:08<00:42,  2.82it/s]\u001b[A\n",
      " 62%|██████▏   | 195/313 [01:08<00:41,  2.81it/s]\u001b[A\n",
      " 63%|██████▎   | 196/313 [01:09<00:41,  2.81it/s]\u001b[A\n",
      " 63%|██████▎   | 197/313 [01:09<00:41,  2.81it/s]\u001b[A\n",
      " 63%|██████▎   | 198/313 [01:09<00:40,  2.81it/s]\u001b[A\n",
      " 64%|██████▎   | 199/313 [01:10<00:40,  2.81it/s]\u001b[A\n",
      " 64%|██████▍   | 200/313 [01:10<00:40,  2.81it/s]\u001b[A\n",
      " 64%|██████▍   | 201/313 [01:10<00:39,  2.81it/s]\u001b[A\n",
      " 65%|██████▍   | 202/313 [01:11<00:39,  2.81it/s]\u001b[A\n",
      " 65%|██████▍   | 203/313 [01:11<00:39,  2.81it/s]\u001b[A\n",
      " 65%|██████▌   | 204/313 [01:11<00:38,  2.81it/s]\u001b[A\n",
      " 65%|██████▌   | 205/313 [01:12<00:38,  2.81it/s]\u001b[A\n",
      " 66%|██████▌   | 206/313 [01:12<00:38,  2.81it/s]\u001b[A\n",
      " 66%|██████▌   | 207/313 [01:12<00:37,  2.81it/s]\u001b[A\n",
      " 66%|██████▋   | 208/313 [01:13<00:37,  2.83it/s]\u001b[A\n",
      " 67%|██████▋   | 209/313 [01:13<00:36,  2.84it/s]\u001b[A\n",
      " 67%|██████▋   | 210/313 [01:13<00:36,  2.85it/s]\u001b[A\n",
      " 67%|██████▋   | 211/313 [01:14<00:35,  2.85it/s]\u001b[A\n",
      " 68%|██████▊   | 212/313 [01:14<00:35,  2.85it/s]\u001b[A\n",
      " 68%|██████▊   | 213/313 [01:15<00:35,  2.85it/s]\u001b[A\n",
      " 68%|██████▊   | 214/313 [01:15<00:34,  2.84it/s]\u001b[A\n",
      " 69%|██████▊   | 215/313 [01:15<00:34,  2.83it/s]\u001b[A\n",
      " 69%|██████▉   | 216/313 [01:16<00:34,  2.83it/s]\u001b[A\n",
      " 69%|██████▉   | 217/313 [01:16<00:33,  2.83it/s]\u001b[A\n",
      " 70%|██████▉   | 218/313 [01:16<00:33,  2.84it/s]\u001b[A\n",
      " 70%|██████▉   | 219/313 [01:17<00:32,  2.85it/s]\u001b[A\n",
      " 70%|███████   | 220/313 [01:17<00:32,  2.86it/s]\u001b[A\n",
      " 71%|███████   | 221/313 [01:17<00:32,  2.87it/s]\u001b[A\n",
      " 71%|███████   | 222/313 [01:18<00:31,  2.87it/s]\u001b[A\n",
      " 71%|███████   | 223/313 [01:18<00:31,  2.87it/s]\u001b[A\n",
      " 72%|███████▏  | 224/313 [01:18<00:31,  2.87it/s]\u001b[A\n",
      " 72%|███████▏  | 225/313 [01:19<00:30,  2.87it/s]\u001b[A\n",
      " 72%|███████▏  | 226/313 [01:19<00:30,  2.87it/s]\u001b[A\n",
      " 73%|███████▎  | 227/313 [01:19<00:29,  2.88it/s]\u001b[A\n",
      " 73%|███████▎  | 228/313 [01:20<00:29,  2.88it/s]\u001b[A\n",
      " 73%|███████▎  | 229/313 [01:20<00:29,  2.88it/s]\u001b[A\n",
      " 73%|███████▎  | 230/313 [01:20<00:28,  2.88it/s]\u001b[A\n",
      " 74%|███████▍  | 231/313 [01:21<00:28,  2.88it/s]\u001b[A\n",
      " 74%|███████▍  | 232/313 [01:21<00:28,  2.88it/s]\u001b[A\n",
      " 74%|███████▍  | 233/313 [01:22<00:27,  2.87it/s]\u001b[A\n",
      " 75%|███████▍  | 234/313 [01:22<00:27,  2.87it/s]\u001b[A\n",
      " 75%|███████▌  | 235/313 [01:22<00:27,  2.87it/s]\u001b[A\n",
      " 75%|███████▌  | 236/313 [01:23<00:26,  2.86it/s]\u001b[A\n",
      " 76%|███████▌  | 237/313 [01:23<00:26,  2.86it/s]\u001b[A\n",
      " 76%|███████▌  | 238/313 [01:23<00:26,  2.85it/s]\u001b[A\n",
      " 76%|███████▋  | 239/313 [01:24<00:26,  2.85it/s]\u001b[A\n",
      " 77%|███████▋  | 240/313 [01:24<00:25,  2.84it/s]\u001b[A\n",
      " 77%|███████▋  | 241/313 [01:24<00:25,  2.84it/s]\u001b[A\n",
      " 77%|███████▋  | 242/313 [01:25<00:25,  2.83it/s]\u001b[A\n",
      " 78%|███████▊  | 243/313 [01:25<00:24,  2.83it/s]\u001b[A\n",
      " 78%|███████▊  | 244/313 [01:25<00:24,  2.82it/s]\u001b[A\n",
      " 78%|███████▊  | 245/313 [01:26<00:24,  2.82it/s]\u001b[A\n",
      " 79%|███████▊  | 246/313 [01:26<00:23,  2.83it/s]\u001b[A\n",
      " 79%|███████▉  | 247/313 [01:26<00:23,  2.84it/s]\u001b[A\n",
      " 79%|███████▉  | 248/313 [01:27<00:22,  2.85it/s]\u001b[A\n",
      " 80%|███████▉  | 249/313 [01:27<00:22,  2.85it/s]\u001b[A\n",
      " 80%|███████▉  | 250/313 [01:27<00:22,  2.86it/s]\u001b[A\n",
      " 80%|████████  | 251/313 [01:28<00:21,  2.87it/s]\u001b[A\n",
      " 81%|████████  | 252/313 [01:28<00:21,  2.86it/s]\u001b[A\n",
      " 81%|████████  | 253/313 [01:29<00:20,  2.87it/s]\u001b[A\n",
      " 81%|████████  | 254/313 [01:29<00:20,  2.87it/s]\u001b[A\n",
      " 81%|████████▏ | 255/313 [01:29<00:20,  2.86it/s]\u001b[A\n",
      " 82%|████████▏ | 256/313 [01:30<00:19,  2.86it/s]\u001b[A\n",
      " 82%|████████▏ | 257/313 [01:30<00:19,  2.86it/s]\u001b[A\n",
      " 82%|████████▏ | 258/313 [01:30<00:19,  2.87it/s]\u001b[A\n",
      " 83%|████████▎ | 259/313 [01:31<00:18,  2.86it/s]\u001b[A\n",
      " 83%|████████▎ | 260/313 [01:31<00:18,  2.86it/s]\u001b[A\n",
      " 83%|████████▎ | 261/313 [01:31<00:18,  2.86it/s]\u001b[A\n",
      " 84%|████████▎ | 262/313 [01:32<00:17,  2.86it/s]\u001b[A\n",
      " 84%|████████▍ | 263/313 [01:32<00:17,  2.86it/s]\u001b[A\n",
      " 84%|████████▍ | 264/313 [01:32<00:17,  2.86it/s]\u001b[A\n",
      " 85%|████████▍ | 265/313 [01:33<00:16,  2.86it/s]\u001b[A\n",
      " 85%|████████▍ | 266/313 [01:33<00:16,  2.86it/s]\u001b[A\n",
      " 85%|████████▌ | 267/313 [01:33<00:16,  2.86it/s]\u001b[A\n",
      " 86%|████████▌ | 268/313 [01:34<00:15,  2.86it/s]\u001b[A\n",
      " 86%|████████▌ | 269/313 [01:34<00:15,  2.86it/s]\u001b[A\n",
      " 86%|████████▋ | 270/313 [01:34<00:15,  2.87it/s]\u001b[A\n",
      " 87%|████████▋ | 271/313 [01:35<00:14,  2.87it/s]\u001b[A\n",
      " 87%|████████▋ | 272/313 [01:35<00:14,  2.87it/s]\u001b[A\n",
      " 87%|████████▋ | 273/313 [01:36<00:13,  2.88it/s]\u001b[A\n",
      " 88%|████████▊ | 274/313 [01:36<00:13,  2.88it/s]\u001b[A\n",
      " 88%|████████▊ | 275/313 [01:36<00:13,  2.86it/s]\u001b[A\n",
      " 88%|████████▊ | 276/313 [01:37<00:12,  2.85it/s]\u001b[A\n",
      " 88%|████████▊ | 277/313 [01:37<00:12,  2.84it/s]\u001b[A\n",
      " 89%|████████▉ | 278/313 [01:37<00:12,  2.84it/s]\u001b[A\n",
      " 89%|████████▉ | 279/313 [01:38<00:11,  2.85it/s]\u001b[A\n",
      " 89%|████████▉ | 280/313 [01:38<00:11,  2.85it/s]\u001b[A\n",
      " 90%|████████▉ | 281/313 [01:38<00:11,  2.86it/s]\u001b[A\n",
      " 90%|█████████ | 282/313 [01:39<00:10,  2.86it/s]\u001b[A\n",
      " 90%|█████████ | 283/313 [01:39<00:10,  2.86it/s]\u001b[A\n",
      " 91%|█████████ | 284/313 [01:39<00:10,  2.86it/s]\u001b[A\n",
      " 91%|█████████ | 285/313 [01:40<00:09,  2.84it/s]\u001b[A\n",
      " 91%|█████████▏| 286/313 [01:40<00:09,  2.83it/s]\u001b[A\n",
      " 92%|█████████▏| 287/313 [01:40<00:09,  2.82it/s]\u001b[A\n",
      " 92%|█████████▏| 288/313 [01:41<00:08,  2.82it/s]\u001b[A\n",
      " 92%|█████████▏| 289/313 [01:41<00:08,  2.82it/s]\u001b[A\n",
      " 93%|█████████▎| 290/313 [01:42<00:08,  2.81it/s]\u001b[A\n",
      " 93%|█████████▎| 291/313 [01:42<00:07,  2.81it/s]\u001b[A\n",
      " 93%|█████████▎| 292/313 [01:42<00:07,  2.81it/s]\u001b[A\n",
      " 94%|█████████▎| 293/313 [01:43<00:07,  2.82it/s]\u001b[A\n",
      " 94%|█████████▍| 294/313 [01:43<00:06,  2.84it/s]\u001b[A\n",
      " 94%|█████████▍| 295/313 [01:43<00:06,  2.84it/s]\u001b[A\n",
      " 95%|█████████▍| 296/313 [01:44<00:05,  2.84it/s]\u001b[A\n",
      " 95%|█████████▍| 297/313 [01:44<00:05,  2.83it/s]\u001b[A\n",
      " 95%|█████████▌| 298/313 [01:44<00:05,  2.83it/s]\u001b[A\n",
      " 96%|█████████▌| 299/313 [01:45<00:04,  2.82it/s]\u001b[A\n",
      " 96%|█████████▌| 300/313 [01:45<00:04,  2.83it/s]\u001b[A\n",
      " 96%|█████████▌| 301/313 [01:45<00:04,  2.83it/s]\u001b[A\n",
      " 96%|█████████▋| 302/313 [01:46<00:03,  2.84it/s]\u001b[A\n",
      " 97%|█████████▋| 303/313 [01:46<00:03,  2.84it/s]\u001b[A\n",
      " 97%|█████████▋| 304/313 [01:46<00:03,  2.83it/s]\u001b[A\n",
      " 97%|█████████▋| 305/313 [01:47<00:02,  2.83it/s]\u001b[A\n",
      " 98%|█████████▊| 306/313 [01:47<00:02,  2.82it/s]\u001b[A\n",
      " 98%|█████████▊| 307/313 [01:48<00:02,  2.82it/s]\u001b[A\n",
      " 98%|█████████▊| 308/313 [01:48<00:01,  2.82it/s]\u001b[A\n",
      " 99%|█████████▊| 309/313 [01:48<00:01,  2.81it/s]\u001b[A\n",
      " 99%|█████████▉| 310/313 [01:49<00:01,  2.81it/s]\u001b[A\n",
      " 99%|█████████▉| 311/313 [01:49<00:00,  2.81it/s]\u001b[A\n",
      "100%|█████████▉| 312/313 [01:49<00:00,  2.82it/s]\u001b[A\n",
      "100%|██████████| 313/313 [01:50<00:00,  2.84it/s]\u001b[A"
     ]
    },
    {
     "name": "stdout",
     "output_type": "stream",
     "text": [
      "CPU times: user 1min 46s, sys: 6.67 s, total: 1min 53s\n",
      "Wall time: 1min 50s\n"
     ]
    },
    {
     "name": "stderr",
     "output_type": "stream",
     "text": [
      "\n"
     ]
    }
   ],
   "source": [
    "%%time\n",
    "results=model_predict(test_X,batch_size=64)"
   ]
  },
  {
   "cell_type": "code",
   "execution_count": null,
   "metadata": {
    "colab": {},
    "colab_type": "code",
    "id": "DSCXF1ZEbgFC",
    "outputId": "24b4c41b-2916-41ed-f18d-70bba10a748a"
   },
   "outputs": [
    {
     "data": {
      "text/plain": [
       "'， 描述 ， 没有 问题 ， 需要 四 s 店 进行 清洗 '"
      ]
     },
     "execution_count": 89,
     "metadata": {
      "tags": []
     },
     "output_type": "execute_result"
    }
   ],
   "source": [
    "results[1005]"
   ]
  },
  {
   "cell_type": "code",
   "execution_count": null,
   "metadata": {
    "colab": {},
    "colab_type": "code",
    "id": "2d-Y242ebgFE",
    "outputId": "5fe4c73c-2bdc-456b-b072-a2536eed7ba5"
   },
   "outputs": [
    {
     "data": {
      "text/html": [
       "<div>\n",
       "<style>\n",
       "    .dataframe thead tr:only-child th {\n",
       "        text-align: right;\n",
       "    }\n",
       "\n",
       "    .dataframe thead th {\n",
       "        text-align: left;\n",
       "    }\n",
       "\n",
       "    .dataframe tbody tr th {\n",
       "        vertical-align: top;\n",
       "    }\n",
       "</style>\n",
       "<table border=\"1\" class=\"dataframe\">\n",
       "  <thead>\n",
       "    <tr style=\"text-align: right;\">\n",
       "      <th></th>\n",
       "      <th>QID</th>\n",
       "      <th>Brand</th>\n",
       "      <th>Model</th>\n",
       "      <th>Question</th>\n",
       "      <th>Dialogue</th>\n",
       "    </tr>\n",
       "  </thead>\n",
       "  <tbody>\n",
       "    <tr>\n",
       "      <th>0</th>\n",
       "      <td>Q1</td>\n",
       "      <td>大众(进口)</td>\n",
       "      <td>高尔夫(进口)</td>\n",
       "      <td>我的帕萨特烧机油怎么办怎么办？</td>\n",
       "      <td>技师说：你好，请问你的车跑了多少公里了，如果在保修期内，可以到当地的4店里面进行检查维修。如...</td>\n",
       "    </tr>\n",
       "    <tr>\n",
       "      <th>1</th>\n",
       "      <td>Q2</td>\n",
       "      <td>一汽-大众奥迪</td>\n",
       "      <td>奥迪A6</td>\n",
       "      <td>修一下多少钱是换还是修</td>\n",
       "      <td>技师说：你好师傅！抛光处理一下就好了！50元左右就好了，希望能够帮到你！祝你生活愉快！</td>\n",
       "    </tr>\n",
       "    <tr>\n",
       "      <th>2</th>\n",
       "      <td>Q3</td>\n",
       "      <td>上汽大众</td>\n",
       "      <td>帕萨特</td>\n",
       "      <td>帕萨特领域    喇叭坏了  店里说方向盘里线坏了 换一根两三百不等 感觉太贵</td>\n",
       "      <td>技师说：你好，气囊油丝坏了吗，这个价格不贵。可以更换。</td>\n",
       "    </tr>\n",
       "    <tr>\n",
       "      <th>3</th>\n",
       "      <td>Q4</td>\n",
       "      <td>南京菲亚特</td>\n",
       "      <td>派力奥</td>\n",
       "      <td>发动机漏气会有什么征兆？</td>\n",
       "      <td>技师说：你好！一：发动机没力，并伴有“啪啪”的漏气声音。二：发动机没力，并伴有排气管冒黑烟。...</td>\n",
       "    </tr>\n",
       "    <tr>\n",
       "      <th>4</th>\n",
       "      <td>Q5</td>\n",
       "      <td>东风本田</td>\n",
       "      <td>思铂睿</td>\n",
       "      <td>请问 那天右后胎扎了订，补了胎后跑高速80多开始有点抖，110时速以上抖动明显，以为是未做动...</td>\n",
       "      <td>技师说：你好师傅！可能前轮平衡快脱落或者不平衡造成的！建议前轮做一下动平衡就好了！希望能够帮...</td>\n",
       "    </tr>\n",
       "  </tbody>\n",
       "</table>\n",
       "</div>"
      ],
      "text/plain": [
       "  QID    Brand    Model                                           Question  \\\n",
       "0  Q1   大众(进口)  高尔夫(进口)                                    我的帕萨特烧机油怎么办怎么办？   \n",
       "1  Q2  一汽-大众奥迪     奥迪A6                                        修一下多少钱是换还是修   \n",
       "2  Q3     上汽大众      帕萨特           帕萨特领域    喇叭坏了  店里说方向盘里线坏了 换一根两三百不等 感觉太贵    \n",
       "3  Q4    南京菲亚特      派力奥                                       发动机漏气会有什么征兆？   \n",
       "4  Q5     东风本田      思铂睿  请问 那天右后胎扎了订，补了胎后跑高速80多开始有点抖，110时速以上抖动明显，以为是未做动...   \n",
       "\n",
       "                                            Dialogue  \n",
       "0  技师说：你好，请问你的车跑了多少公里了，如果在保修期内，可以到当地的4店里面进行检查维修。如...  \n",
       "1        技师说：你好师傅！抛光处理一下就好了！50元左右就好了，希望能够帮到你！祝你生活愉快！  \n",
       "2                        技师说：你好，气囊油丝坏了吗，这个价格不贵。可以更换。  \n",
       "3  技师说：你好！一：发动机没力，并伴有“啪啪”的漏气声音。二：发动机没力，并伴有排气管冒黑烟。...  \n",
       "4  技师说：你好师傅！可能前轮平衡快脱落或者不平衡造成的！建议前轮做一下动平衡就好了！希望能够帮...  "
      ]
     },
     "execution_count": 91,
     "metadata": {
      "tags": []
     },
     "output_type": "execute_result"
    }
   ],
   "source": [
    "# 读入提交数据\n",
    "test_df=pd.read_csv(test_data_path)\n",
    "test_df.head()"
   ]
  },
  {
   "cell_type": "markdown",
   "metadata": {
    "colab_type": "text",
    "id": "qcSOW6UkbgFJ"
   },
   "source": [
    "# 判断是否有空值"
   ]
  },
  {
   "cell_type": "code",
   "execution_count": null,
   "metadata": {
    "colab": {},
    "colab_type": "code",
    "id": "001T4MxNbgFJ"
   },
   "outputs": [],
   "source": [
    "for idx,result in enumerate(results):\n",
    "    if result=='':print(idx)"
   ]
  },
  {
   "cell_type": "code",
   "execution_count": null,
   "metadata": {
    "colab": {},
    "colab_type": "code",
    "id": "UjCM2fJUbgFK"
   },
   "outputs": [],
   "source": [
    "# 赋值结果\n",
    "test_df['Prediction']=results\n",
    "#　提取ID和预测结果两列\n",
    "test_df=test_df[['QID','Prediction']]"
   ]
  },
  {
   "cell_type": "code",
   "execution_count": null,
   "metadata": {
    "colab": {},
    "colab_type": "code",
    "id": "Zt_yzRZ-bgFM",
    "outputId": "50a247cb-f1f6-46b8-cb34-b9d57eab8102"
   },
   "outputs": [
    {
     "data": {
      "text/html": [
       "<div>\n",
       "<style>\n",
       "    .dataframe thead tr:only-child th {\n",
       "        text-align: right;\n",
       "    }\n",
       "\n",
       "    .dataframe thead th {\n",
       "        text-align: left;\n",
       "    }\n",
       "\n",
       "    .dataframe tbody tr th {\n",
       "        vertical-align: top;\n",
       "    }\n",
       "</style>\n",
       "<table border=\"1\" class=\"dataframe\">\n",
       "  <thead>\n",
       "    <tr style=\"text-align: right;\">\n",
       "      <th></th>\n",
       "      <th>QID</th>\n",
       "      <th>Prediction</th>\n",
       "    </tr>\n",
       "  </thead>\n",
       "  <tbody>\n",
       "    <tr>\n",
       "      <th>0</th>\n",
       "      <td>Q1</td>\n",
       "      <td>， 现在 行驶 一千公里 ， 保修期 内 ， 4s店 内 4s店 进行 维修 ， 检查 机油...</td>\n",
       "    </tr>\n",
       "    <tr>\n",
       "      <th>1</th>\n",
       "      <td>Q2</td>\n",
       "      <td>！ 描述 ， 没有 等到 回复 ， 需要 300 元 左右 ！</td>\n",
       "    </tr>\n",
       "    <tr>\n",
       "      <th>2</th>\n",
       "      <td>Q3</td>\n",
       "      <td>， 描述 情况 分析 事故 车 ， 价格 不 贵 。</td>\n",
       "    </tr>\n",
       "    <tr>\n",
       "      <th>3</th>\n",
       "      <td>Q4</td>\n",
       "      <td>分析 诊断 电脑 读取 发动机 缸 垫 。</td>\n",
       "    </tr>\n",
       "    <tr>\n",
       "      <th>4</th>\n",
       "      <td>Q5</td>\n",
       "      <td>， 描述 ， 这种 情况 ， 轮胎 问题 ， 轮胎 问题 ， 轮胎 问题 ， 轮胎 问题 ，...</td>\n",
       "    </tr>\n",
       "  </tbody>\n",
       "</table>\n",
       "</div>"
      ],
      "text/plain": [
       "  QID                                         Prediction\n",
       "0  Q1  ， 现在 行驶 一千公里 ， 保修期 内 ， 4s店 内 4s店 进行 维修 ， 检查 机油...\n",
       "1  Q2                   ！ 描述 ， 没有 等到 回复 ， 需要 300 元 左右 ！ \n",
       "2  Q3                        ， 描述 情况 分析 事故 车 ， 价格 不 贵 。 \n",
       "3  Q4                             分析 诊断 电脑 读取 发动机 缸 垫 。 \n",
       "4  Q5  ， 描述 ， 这种 情况 ， 轮胎 问题 ， 轮胎 问题 ， 轮胎 问题 ， 轮胎 问题 ，..."
      ]
     },
     "execution_count": 95,
     "metadata": {
      "tags": []
     },
     "output_type": "execute_result"
    }
   ],
   "source": [
    "test_df.head()"
   ]
  },
  {
   "cell_type": "markdown",
   "metadata": {
    "colab_type": "text",
    "id": "YoxcWANMbgFN"
   },
   "source": [
    "# 结果处理"
   ]
  },
  {
   "cell_type": "code",
   "execution_count": null,
   "metadata": {
    "colab": {},
    "colab_type": "code",
    "id": "ZsLK_7gJbgFN"
   },
   "outputs": [],
   "source": [
    "# 判断是否有空值\n",
    "# for predic in test_df['Prediction']:\n",
    "#     if type(predic) != str:\n",
    "#         print(predic)"
   ]
  },
  {
   "cell_type": "code",
   "execution_count": null,
   "metadata": {
    "colab": {},
    "colab_type": "code",
    "id": "-UmA27HObgFP"
   },
   "outputs": [],
   "source": [
    "test_df['Prediction']=test_df['Prediction'].apply(submit_proc)"
   ]
  },
  {
   "cell_type": "code",
   "execution_count": null,
   "metadata": {
    "colab": {},
    "colab_type": "code",
    "id": "a0AmjkSubgFR",
    "outputId": "3a819965-8af6-4572-bdae-81a034a62871"
   },
   "outputs": [
    {
     "data": {
      "text/html": [
       "<div>\n",
       "<style>\n",
       "    .dataframe thead tr:only-child th {\n",
       "        text-align: right;\n",
       "    }\n",
       "\n",
       "    .dataframe thead th {\n",
       "        text-align: left;\n",
       "    }\n",
       "\n",
       "    .dataframe tbody tr th {\n",
       "        vertical-align: top;\n",
       "    }\n",
       "</style>\n",
       "<table border=\"1\" class=\"dataframe\">\n",
       "  <thead>\n",
       "    <tr style=\"text-align: right;\">\n",
       "      <th></th>\n",
       "      <th>QID</th>\n",
       "      <th>Prediction</th>\n",
       "    </tr>\n",
       "  </thead>\n",
       "  <tbody>\n",
       "    <tr>\n",
       "      <th>0</th>\n",
       "      <td>Q1</td>\n",
       "      <td>现在行驶一千公里，保修期内，4s店内4s店进行维修，检查机油消耗过大，更换机油消耗过大，检查...</td>\n",
       "    </tr>\n",
       "    <tr>\n",
       "      <th>1</th>\n",
       "      <td>Q2</td>\n",
       "      <td>描述，没有等到回复，需要300元左右！</td>\n",
       "    </tr>\n",
       "    <tr>\n",
       "      <th>2</th>\n",
       "      <td>Q3</td>\n",
       "      <td>描述情况分析事故车，价格不贵。</td>\n",
       "    </tr>\n",
       "    <tr>\n",
       "      <th>3</th>\n",
       "      <td>Q4</td>\n",
       "      <td>分析诊断电脑读取发动机缸垫。</td>\n",
       "    </tr>\n",
       "    <tr>\n",
       "      <th>4</th>\n",
       "      <td>Q5</td>\n",
       "      <td>描述，这种情况，轮胎问题，轮胎问题，轮胎问题，轮胎问题，轮胎问题，轮胎问题，轮胎问题，轮胎问...</td>\n",
       "    </tr>\n",
       "  </tbody>\n",
       "</table>\n",
       "</div>"
      ],
      "text/plain": [
       "  QID                                         Prediction\n",
       "0  Q1  现在行驶一千公里，保修期内，4s店内4s店进行维修，检查机油消耗过大，更换机油消耗过大，检查...\n",
       "1  Q2                                描述，没有等到回复，需要300元左右！\n",
       "2  Q3                                    描述情况分析事故车，价格不贵。\n",
       "3  Q4                                     分析诊断电脑读取发动机缸垫。\n",
       "4  Q5  描述，这种情况，轮胎问题，轮胎问题，轮胎问题，轮胎问题，轮胎问题，轮胎问题，轮胎问题，轮胎问..."
      ]
     },
     "execution_count": 98,
     "metadata": {
      "tags": []
     },
     "output_type": "execute_result"
    }
   ],
   "source": [
    "test_df.head()"
   ]
  },
  {
   "cell_type": "markdown",
   "metadata": {
    "colab_type": "text",
    "id": "11XYrzXgbgFS"
   },
   "source": [
    "# 保存结果"
   ]
  },
  {
   "cell_type": "code",
   "execution_count": null,
   "metadata": {
    "colab": {},
    "colab_type": "code",
    "id": "_1H6v56PbgFS"
   },
   "outputs": [],
   "source": [
    "from utils.file_utils import get_result_filename"
   ]
  },
  {
   "cell_type": "code",
   "execution_count": null,
   "metadata": {
    "colab": {},
    "colab_type": "code",
    "id": "dyAfUjx0bgFU"
   },
   "outputs": [],
   "source": [
    "# 获取结果存储路径\n",
    "result_save_path = get_result_filename(params[\"batch_size\"],params[\"epochs\"] , params[\"max_enc_len\"], params[\"embedding_dim\"],commit='_4_1_submit_proc_add_masks_loss_seq2seq_code')"
   ]
  },
  {
   "cell_type": "code",
   "execution_count": null,
   "metadata": {
    "colab": {},
    "colab_type": "code",
    "id": "XUKvUIdTbgFW"
   },
   "outputs": [],
   "source": [
    "# 保存结果.\n",
    "test_df.to_csv(result_save_path,index=None,sep=',')"
   ]
  },
  {
   "cell_type": "code",
   "execution_count": null,
   "metadata": {
    "colab": {},
    "colab_type": "code",
    "id": "FYp7NW4ebgFY",
    "outputId": "e2bc303a-418d-4f11-dad0-f7ea4339333e"
   },
   "outputs": [
    {
     "data": {
      "text/plain": [
       "'/home/roger/kaikeba/03_lecture/code/result/2019_12_08_22_30_23_batch_size_64_epochs_5_max_length_inp_200_embedding_dim_500_4_1_submit_proc_add_masks_loss_seq2seq_code.csv'"
      ]
     },
     "execution_count": 109,
     "metadata": {
      "tags": []
     },
     "output_type": "execute_result"
    }
   ],
   "source": [
    "result_save_path"
   ]
  },
  {
   "cell_type": "code",
   "execution_count": null,
   "metadata": {
    "colab": {},
    "colab_type": "code",
    "id": "pKT4qdpUbgFb",
    "outputId": "1c8a1533-45bb-4be0-c017-113bd66aafab"
   },
   "outputs": [
    {
     "data": {
      "text/html": [
       "<div>\n",
       "<style>\n",
       "    .dataframe thead tr:only-child th {\n",
       "        text-align: right;\n",
       "    }\n",
       "\n",
       "    .dataframe thead th {\n",
       "        text-align: left;\n",
       "    }\n",
       "\n",
       "    .dataframe tbody tr th {\n",
       "        vertical-align: top;\n",
       "    }\n",
       "</style>\n",
       "<table border=\"1\" class=\"dataframe\">\n",
       "  <thead>\n",
       "    <tr style=\"text-align: right;\">\n",
       "      <th></th>\n",
       "      <th>QID</th>\n",
       "      <th>Prediction</th>\n",
       "    </tr>\n",
       "  </thead>\n",
       "  <tbody>\n",
       "    <tr>\n",
       "      <th>0</th>\n",
       "      <td>Q1</td>\n",
       "      <td>现在行驶一千公里，保修期内，4s店内4s店进行维修，检查机油消耗过大，更换机油消耗过大，检查...</td>\n",
       "    </tr>\n",
       "    <tr>\n",
       "      <th>1</th>\n",
       "      <td>Q2</td>\n",
       "      <td>描述，没有等到回复，需要300元左右！</td>\n",
       "    </tr>\n",
       "    <tr>\n",
       "      <th>2</th>\n",
       "      <td>Q3</td>\n",
       "      <td>描述情况分析事故车，价格不贵。</td>\n",
       "    </tr>\n",
       "    <tr>\n",
       "      <th>3</th>\n",
       "      <td>Q4</td>\n",
       "      <td>分析诊断电脑读取发动机缸垫。</td>\n",
       "    </tr>\n",
       "    <tr>\n",
       "      <th>4</th>\n",
       "      <td>Q5</td>\n",
       "      <td>描述，这种情况，轮胎问题，轮胎问题，轮胎问题，轮胎问题，轮胎问题，轮胎问题，轮胎问题，轮胎问...</td>\n",
       "    </tr>\n",
       "    <tr>\n",
       "      <th>5</th>\n",
       "      <td>Q6</td>\n",
       "      <td>描述，这种情况，描述，这种情况，描述，这种情况，描述，这种情况，描述，这种情况，描述，这种情...</td>\n",
       "    </tr>\n",
       "    <tr>\n",
       "      <th>6</th>\n",
       "      <td>Q7</td>\n",
       "      <td>添加，添加防冻液，添加防冻液，添加防冻液，添加防冻液，添加防冻液，添加防冻液，添加防冻液，添...</td>\n",
       "    </tr>\n",
       "    <tr>\n",
       "      <th>7</th>\n",
       "      <td>Q8</td>\n",
       "      <td>机油灯亮，需要使用5w30机油，需要检查机油灯亮，需要使用5w30机油，需要检查机油灯亮，需...</td>\n",
       "    </tr>\n",
       "    <tr>\n",
       "      <th>8</th>\n",
       "      <td>Q9</td>\n",
       "      <td>图片来看，轮胎磨损严重，这种情况，轮胎磨损严重，这种情况，轮胎磨损严重，这种情况，轮胎磨损严...</td>\n",
       "    </tr>\n",
       "    <tr>\n",
       "      <th>9</th>\n",
       "      <td>Q10</td>\n",
       "      <td>这种情况可能天气凉情况下，长时间停放时间长以后，时间长以后，时间长以后，时间长以后，时间长以...</td>\n",
       "    </tr>\n",
       "  </tbody>\n",
       "</table>\n",
       "</div>"
      ],
      "text/plain": [
       "   QID                                         Prediction\n",
       "0   Q1  现在行驶一千公里，保修期内，4s店内4s店进行维修，检查机油消耗过大，更换机油消耗过大，检查...\n",
       "1   Q2                                描述，没有等到回复，需要300元左右！\n",
       "2   Q3                                    描述情况分析事故车，价格不贵。\n",
       "3   Q4                                     分析诊断电脑读取发动机缸垫。\n",
       "4   Q5  描述，这种情况，轮胎问题，轮胎问题，轮胎问题，轮胎问题，轮胎问题，轮胎问题，轮胎问题，轮胎问...\n",
       "5   Q6  描述，这种情况，描述，这种情况，描述，这种情况，描述，这种情况，描述，这种情况，描述，这种情...\n",
       "6   Q7  添加，添加防冻液，添加防冻液，添加防冻液，添加防冻液，添加防冻液，添加防冻液，添加防冻液，添...\n",
       "7   Q8  机油灯亮，需要使用5w30机油，需要检查机油灯亮，需要使用5w30机油，需要检查机油灯亮，需...\n",
       "8   Q9  图片来看，轮胎磨损严重，这种情况，轮胎磨损严重，这种情况，轮胎磨损严重，这种情况，轮胎磨损严...\n",
       "9  Q10  这种情况可能天气凉情况下，长时间停放时间长以后，时间长以后，时间长以后，时间长以后，时间长以..."
      ]
     },
     "execution_count": 110,
     "metadata": {
      "tags": []
     },
     "output_type": "execute_result"
    }
   ],
   "source": [
    "# 读取结果\n",
    "test_df=pd.read_csv(result_save_path)\n",
    "# 查看格式\n",
    "test_df.head(10)"
   ]
  },
  {
   "cell_type": "markdown",
   "metadata": {
    "colab_type": "text",
    "id": "3aYZt1wFbgFd"
   },
   "source": [
    "提交须知\n",
    "请在提交之前仔细阅读“提交须知”。\n",
    "\n",
    "1. 自动评审\n",
    "系统根据选手提交的结果自动评分，提供每天5次的评测与排名机会，实时更新排行榜并按照评测分数从高到低排序。若一天内多次提交结果，新结果版本将覆盖原版本。\n",
    "\n",
    "2. 评分标准\n",
    "评测用到的核心算法为ROUGE(Recall-Oriented Understudy for Gisting Evaluation)，详见Wikipedia；具体用到的指标为ROUGE_L，即：Longest Common Subsequence (LCS) based statistics，关于LCS问题，详见Wikipedia。\n",
    "\n",
    "所有参与评审的模型必须使用飞桨PaddlePaddle。所有参赛个人可无限使用基于AI Studio平台提供的训练资源。\n",
    "\n",
    "3. 特别注意\n",
    "选手需确认输出结果的总行数为20001（含表头），且QID ≤ Q20000，否则成绩无效。"
   ]
  },
  {
   "cell_type": "markdown",
   "metadata": {
    "colab_type": "text",
    "id": "YPkpBrj7bgFd"
   },
   "source": [
    "# ROUGE"
   ]
  },
  {
   "cell_type": "markdown",
   "metadata": {
    "colab_type": "text",
    "id": "5Oo6SO7TbgFe"
   },
   "source": [
    "# 角度1：QA 问题"
   ]
  },
  {
   "cell_type": "markdown",
   "metadata": {
    "colab_type": "text",
    "id": "Wp-kdiUTbgFe"
   },
   "source": [
    "# 角度2： 摘要问题"
   ]
  },
  {
   "cell_type": "markdown",
   "metadata": {
    "colab_type": "text",
    "id": "ugzgTbs1bgFe"
   },
   "source": [
    "# 角度3： 阅读理解问题\n",
    "\n",
    "> 如果看成是阅读理解问题， 那么就是从Conversation中找出能回答Problem的答案， 由于目前的阅读理解数据集的答案长度通常比较短（一般是几个单词），所以state of the art的作法是根据Problem，从Context中选择一段作为答案，模型只要输出答案的开始和结束位置即可。 但是这个任务的report有点长，常常出现几十个甚至上百个词， 而且report中的词好像并不完全是来自于Conversation。 Report中67.7%的词来自于Conversation."
   ]
  },
  {
   "cell_type": "markdown",
   "metadata": {
    "colab_type": "text",
    "id": "FJePzYgTbgFf"
   },
   "source": [
    "## Next steps\n",
    "\n",
    "* [Download a different dataset](http://www.manythings.org/anki/) to experiment with translations, for example, English to German, or English to French.\n",
    "* Experiment with training on a larger dataset, or using more epochs\n",
    "* [Neural Machine Translation (seq2seq) Tutorial](https://github.com/tensorflow/nmt)\n"
   ]
  },
  {
   "cell_type": "code",
   "execution_count": null,
   "metadata": {
    "colab": {},
    "colab_type": "code",
    "id": "CIXz-j8SfR1I"
   },
   "outputs": [],
   "source": []
  },
  {
   "cell_type": "code",
   "execution_count": null,
   "metadata": {
    "colab": {},
    "colab_type": "code",
    "id": "sk1t4SCXfSXd"
   },
   "outputs": [],
   "source": []
  },
  {
   "cell_type": "code",
   "execution_count": null,
   "metadata": {
    "colab": {},
    "colab_type": "code",
    "id": "X-xUQiJTfVX-"
   },
   "outputs": [],
   "source": []
  },
  {
   "cell_type": "code",
   "execution_count": null,
   "metadata": {
    "colab": {},
    "colab_type": "code",
    "id": "9GeV8mIXNwWt"
   },
   "outputs": [],
   "source": []
  },
  {
   "cell_type": "code",
   "execution_count": null,
   "metadata": {
    "colab": {},
    "colab_type": "code",
    "id": "_o0MMR2VVS4x"
   },
   "outputs": [],
   "source": []
  },
  {
   "cell_type": "code",
   "execution_count": null,
   "metadata": {
    "colab": {},
    "colab_type": "code",
    "id": "BXzogZg-VVUn"
   },
   "outputs": [],
   "source": []
  },
  {
   "cell_type": "code",
   "execution_count": null,
   "metadata": {
    "colab": {},
    "colab_type": "code",
    "id": "lAzQvFzXViHA"
   },
   "outputs": [],
   "source": []
  }
 ],
 "metadata": {
  "accelerator": "GPU",
  "colab": {
   "collapsed_sections": [
    "YPkpBrj7bgFd",
    "Wp-kdiUTbgFe"
   ],
   "name": "seq2seq-Train.ipynb",
   "provenance": [],
   "toc_visible": true
  },
  "kernelspec": {
   "display_name": "Python 3",
   "language": "python",
   "name": "python3"
  },
  "language_info": {
   "codemirror_mode": {
    "name": "ipython",
    "version": 3
   },
   "file_extension": ".py",
   "mimetype": "text/x-python",
   "name": "python",
   "nbconvert_exporter": "python",
   "pygments_lexer": "ipython3",
   "version": "3.7.6"
  }
 },
 "nbformat": 4,
 "nbformat_minor": 4
}
