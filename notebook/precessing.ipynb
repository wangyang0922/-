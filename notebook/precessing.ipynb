{
 "cells": [
  {
   "cell_type": "code",
   "execution_count": 3,
   "metadata": {},
   "outputs": [],
   "source": [
    "%load_ext autoreload\n",
    "%autoreload 2\n",
    "import warnings\n",
    "warnings.filterwarnings(\"ignore\")\n",
    "import sys\n",
    "sys.path.append('/Users/sara/Documents/算法学习/NLP/nlp名企/作业讲课资料/1-2/seq2seq/code')"
   ]
  },
  {
   "cell_type": "code",
   "execution_count": null,
   "metadata": {},
   "outputs": [],
   "source": []
  },
  {
   "cell_type": "markdown",
   "metadata": {},
   "source": [
    "## 1. 数据预处理"
   ]
  },
  {
   "cell_type": "code",
   "execution_count": 5,
   "metadata": {},
   "outputs": [],
   "source": [
    "import pandas as pd\n",
    "import numpy as np\n",
    "from utils.data_loader import build_dataset,pad_proc,sentences_proc\n",
    "from utils.config import *\n",
    "from utils.multi_proc_utils import parallelize\n",
    "from gensim.models.word2vec import LineSentence, Word2Vec"
   ]
  },
  {
   "cell_type": "markdown",
   "metadata": {},
   "source": [
    "## 1.1加载数据"
   ]
  },
  {
   "cell_type": "code",
   "execution_count": null,
   "metadata": {},
   "outputs": [],
   "source": [
    "train_data_path\n",
    "test_data_path"
   ]
  },
  {
   "cell_type": "code",
   "execution_count": 8,
   "metadata": {},
   "outputs": [
    {
     "name": "stdout",
     "output_type": "stream",
     "text": [
      "train data size 82943,test data size 20000\n"
     ]
    }
   ],
   "source": [
    "train_df = pd.read_csv(train_data_path)\n",
    "test_df = pd.read_csv(test_data_path)\n",
    "print('train data size {},test data size {}'.format(len(train_df), len(test_df)))"
   ]
  },
  {
   "cell_type": "code",
   "execution_count": 9,
   "metadata": {},
   "outputs": [
    {
     "data": {
      "text/plain": [
       "0    技师说：[语音]|车主说：新的都换了|车主说：助力泵，方向机|技师说：[语音]|车主说：换了...\n",
       "1    技师说：你这个有没有电脑检测故障代码。|车主说：有|技师说：发一下|车主说：发动机之前亮故障...\n",
       "2    技师说：你好，4缸自然吸气发动机N46是吧，先挂空档再挂其他档有没有闯动呢，变速箱油液位是否...\n",
       "3    技师说：右侧排气管上方，缸体上靠近变速箱|车主说：[图片]|车主说：是不是这个？|车主说：这...\n",
       "4    技师说：家庭用车的话，还是可以入手的|技师说：维修保养费用不高|车主说：12年的180市场价...\n",
       "Name: Dialogue, dtype: object"
      ]
     },
     "execution_count": 9,
     "metadata": {},
     "output_type": "execute_result"
    }
   ],
   "source": [
    "train_df['Dialogue'].head()"
   ]
  },
  {
   "cell_type": "code",
   "execution_count": 33,
   "metadata": {},
   "outputs": [
    {
     "data": {
      "text/plain": [
       "'技师说：[语音]|车主说：新的都换了|车主说：助力泵，方向机|技师说：[语音]|车主说：换了方向机带的有|车主说：[图片]|技师说：[语音]|车主说：有助力就是重，这车要匹配吧|技师说：不需要|技师说：你这是更换的部件有问题|车主说：跑快了还好点，就倒车重的很。|技师说：是非常重吗|车主说：是的，累人|技师说：[语音]|车主说：我觉得也是，可是车主是以前没这么重，选吧助理泵换了不行，又把放向机换了，现在还这样就不知道咋和车主解释。|技师说：[语音]|技师说：[语音]'"
      ]
     },
     "execution_count": 33,
     "metadata": {},
     "output_type": "execute_result"
    }
   ],
   "source": [
    "train_df['Dialogue'][0]"
   ]
  },
  {
   "cell_type": "code",
   "execution_count": 34,
   "metadata": {},
   "outputs": [
    {
     "data": {
      "text/html": [
       "<div>\n",
       "<style scoped>\n",
       "    .dataframe tbody tr th:only-of-type {\n",
       "        vertical-align: middle;\n",
       "    }\n",
       "\n",
       "    .dataframe tbody tr th {\n",
       "        vertical-align: top;\n",
       "    }\n",
       "\n",
       "    .dataframe thead th {\n",
       "        text-align: right;\n",
       "    }\n",
       "</style>\n",
       "<table border=\"1\" class=\"dataframe\">\n",
       "  <thead>\n",
       "    <tr style=\"text-align: right;\">\n",
       "      <th></th>\n",
       "      <th>QID</th>\n",
       "      <th>Brand</th>\n",
       "      <th>Model</th>\n",
       "      <th>Question</th>\n",
       "      <th>Dialogue</th>\n",
       "    </tr>\n",
       "  </thead>\n",
       "  <tbody>\n",
       "    <tr>\n",
       "      <th>0</th>\n",
       "      <td>Q1</td>\n",
       "      <td>大众(进口)</td>\n",
       "      <td>高尔夫(进口)</td>\n",
       "      <td>我的帕萨特烧机油怎么办怎么办？</td>\n",
       "      <td>技师说：你好，请问你的车跑了多少公里了，如果在保修期内，可以到当地的4店里面进行检查维修。如...</td>\n",
       "    </tr>\n",
       "    <tr>\n",
       "      <th>1</th>\n",
       "      <td>Q2</td>\n",
       "      <td>一汽-大众奥迪</td>\n",
       "      <td>奥迪A6</td>\n",
       "      <td>修一下多少钱是换还是修</td>\n",
       "      <td>技师说：你好师傅！抛光处理一下就好了！50元左右就好了，希望能够帮到你！祝你生活愉快！</td>\n",
       "    </tr>\n",
       "    <tr>\n",
       "      <th>2</th>\n",
       "      <td>Q3</td>\n",
       "      <td>上汽大众</td>\n",
       "      <td>帕萨特</td>\n",
       "      <td>帕萨特领域    喇叭坏了  店里说方向盘里线坏了 换一根两三百不等 感觉太贵</td>\n",
       "      <td>技师说：你好，气囊油丝坏了吗，这个价格不贵。可以更换。</td>\n",
       "    </tr>\n",
       "    <tr>\n",
       "      <th>3</th>\n",
       "      <td>Q4</td>\n",
       "      <td>南京菲亚特</td>\n",
       "      <td>派力奥</td>\n",
       "      <td>发动机漏气会有什么征兆？</td>\n",
       "      <td>技师说：你好！一：发动机没力，并伴有“啪啪”的漏气声音。二：发动机没力，并伴有排气管冒黑烟。...</td>\n",
       "    </tr>\n",
       "    <tr>\n",
       "      <th>4</th>\n",
       "      <td>Q5</td>\n",
       "      <td>东风本田</td>\n",
       "      <td>思铂睿</td>\n",
       "      <td>请问 那天右后胎扎了订，补了胎后跑高速80多开始有点抖，110时速以上抖动明显，以为是未做动...</td>\n",
       "      <td>技师说：你好师傅！可能前轮平衡快脱落或者不平衡造成的！建议前轮做一下动平衡就好了！希望能够帮...</td>\n",
       "    </tr>\n",
       "  </tbody>\n",
       "</table>\n",
       "</div>"
      ],
      "text/plain": [
       "  QID    Brand    Model                                           Question  \\\n",
       "0  Q1   大众(进口)  高尔夫(进口)                                    我的帕萨特烧机油怎么办怎么办？   \n",
       "1  Q2  一汽-大众奥迪     奥迪A6                                        修一下多少钱是换还是修   \n",
       "2  Q3     上汽大众      帕萨特           帕萨特领域    喇叭坏了  店里说方向盘里线坏了 换一根两三百不等 感觉太贵    \n",
       "3  Q4    南京菲亚特      派力奥                                       发动机漏气会有什么征兆？   \n",
       "4  Q5     东风本田      思铂睿  请问 那天右后胎扎了订，补了胎后跑高速80多开始有点抖，110时速以上抖动明显，以为是未做动...   \n",
       "\n",
       "                                            Dialogue  \n",
       "0  技师说：你好，请问你的车跑了多少公里了，如果在保修期内，可以到当地的4店里面进行检查维修。如...  \n",
       "1        技师说：你好师傅！抛光处理一下就好了！50元左右就好了，希望能够帮到你！祝你生活愉快！  \n",
       "2                        技师说：你好，气囊油丝坏了吗，这个价格不贵。可以更换。  \n",
       "3  技师说：你好！一：发动机没力，并伴有“啪啪”的漏气声音。二：发动机没力，并伴有排气管冒黑烟。...  \n",
       "4  技师说：你好师傅！可能前轮平衡快脱落或者不平衡造成的！建议前轮做一下动平衡就好了！希望能够帮...  "
      ]
     },
     "execution_count": 34,
     "metadata": {},
     "output_type": "execute_result"
    }
   ],
   "source": [
    "test_df.head()"
   ]
  },
  {
   "cell_type": "code",
   "execution_count": 35,
   "metadata": {},
   "outputs": [
    {
     "data": {
      "text/html": [
       "<div>\n",
       "<style scoped>\n",
       "    .dataframe tbody tr th:only-of-type {\n",
       "        vertical-align: middle;\n",
       "    }\n",
       "\n",
       "    .dataframe tbody tr th {\n",
       "        vertical-align: top;\n",
       "    }\n",
       "\n",
       "    .dataframe thead th {\n",
       "        text-align: right;\n",
       "    }\n",
       "</style>\n",
       "<table border=\"1\" class=\"dataframe\">\n",
       "  <thead>\n",
       "    <tr style=\"text-align: right;\">\n",
       "      <th></th>\n",
       "      <th>QID</th>\n",
       "      <th>Brand</th>\n",
       "      <th>Model</th>\n",
       "      <th>Question</th>\n",
       "      <th>Dialogue</th>\n",
       "      <th>Report</th>\n",
       "    </tr>\n",
       "  </thead>\n",
       "  <tbody>\n",
       "    <tr>\n",
       "      <th>0</th>\n",
       "      <td>Q1</td>\n",
       "      <td>奔驰</td>\n",
       "      <td>奔驰GL级</td>\n",
       "      <td>方向机重，助力泵，方向机都换了还是一样</td>\n",
       "      <td>技师说：[语音]|车主说：新的都换了|车主说：助力泵，方向机|技师说：[语音]|车主说：换了...</td>\n",
       "      <td>随时联系</td>\n",
       "    </tr>\n",
       "    <tr>\n",
       "      <th>1</th>\n",
       "      <td>Q2</td>\n",
       "      <td>奔驰</td>\n",
       "      <td>奔驰M级</td>\n",
       "      <td>奔驰ML500排气凸轮轴调节错误</td>\n",
       "      <td>技师说：你这个有没有电脑检测故障代码。|车主说：有|技师说：发一下|车主说：发动机之前亮故障...</td>\n",
       "      <td>随时联系</td>\n",
       "    </tr>\n",
       "    <tr>\n",
       "      <th>2</th>\n",
       "      <td>Q3</td>\n",
       "      <td>宝马</td>\n",
       "      <td>宝马X1(进口)</td>\n",
       "      <td>2010款宝马X1，2011年出厂，2.0排量，通用6L45变速箱，原地换挡位PRND车辆闯...</td>\n",
       "      <td>技师说：你好，4缸自然吸气发动机N46是吧，先挂空档再挂其他档有没有闯动呢，变速箱油液位是否...</td>\n",
       "      <td>行驶没有顿挫的感觉，原地换挡有闯动，刹车踩重没有，这是力的限制的作用，应该没有问题</td>\n",
       "    </tr>\n",
       "    <tr>\n",
       "      <th>3</th>\n",
       "      <td>Q4</td>\n",
       "      <td>Jeep</td>\n",
       "      <td>牧马人</td>\n",
       "      <td>3.0V6发动机号在什么位置，有照片最好！</td>\n",
       "      <td>技师说：右侧排气管上方，缸体上靠近变速箱|车主说：[图片]|车主说：是不是这个？|车主说：这...</td>\n",
       "      <td>举起车辆，在左前轮这边的缸体上</td>\n",
       "    </tr>\n",
       "    <tr>\n",
       "      <th>4</th>\n",
       "      <td>Q5</td>\n",
       "      <td>奔驰</td>\n",
       "      <td>奔驰C级</td>\n",
       "      <td>2012款奔驰c180怎么样，维修保养，动力，值得拥有吗</td>\n",
       "      <td>技师说：家庭用车的话，还是可以入手的|技师说：维修保养费用不高|车主说：12年的180市场价...</td>\n",
       "      <td>家庭用车可以入手的，维修保养价格还可以。车况好，价格合理可以入手</td>\n",
       "    </tr>\n",
       "  </tbody>\n",
       "</table>\n",
       "</div>"
      ],
      "text/plain": [
       "  QID Brand     Model                                           Question  \\\n",
       "0  Q1    奔驰     奔驰GL级                                方向机重，助力泵，方向机都换了还是一样   \n",
       "1  Q2    奔驰      奔驰M级                                   奔驰ML500排气凸轮轴调节错误   \n",
       "2  Q3    宝马  宝马X1(进口)  2010款宝马X1，2011年出厂，2.0排量，通用6L45变速箱，原地换挡位PRND车辆闯...   \n",
       "3  Q4  Jeep       牧马人                              3.0V6发动机号在什么位置，有照片最好！   \n",
       "4  Q5    奔驰      奔驰C级                       2012款奔驰c180怎么样，维修保养，动力，值得拥有吗   \n",
       "\n",
       "                                            Dialogue  \\\n",
       "0  技师说：[语音]|车主说：新的都换了|车主说：助力泵，方向机|技师说：[语音]|车主说：换了...   \n",
       "1  技师说：你这个有没有电脑检测故障代码。|车主说：有|技师说：发一下|车主说：发动机之前亮故障...   \n",
       "2  技师说：你好，4缸自然吸气发动机N46是吧，先挂空档再挂其他档有没有闯动呢，变速箱油液位是否...   \n",
       "3  技师说：右侧排气管上方，缸体上靠近变速箱|车主说：[图片]|车主说：是不是这个？|车主说：这...   \n",
       "4  技师说：家庭用车的话，还是可以入手的|技师说：维修保养费用不高|车主说：12年的180市场价...   \n",
       "\n",
       "                                      Report  \n",
       "0                                       随时联系  \n",
       "1                                       随时联系  \n",
       "2  行驶没有顿挫的感觉，原地换挡有闯动，刹车踩重没有，这是力的限制的作用，应该没有问题  \n",
       "3                            举起车辆，在左前轮这边的缸体上  \n",
       "4           家庭用车可以入手的，维修保养价格还可以。车况好，价格合理可以入手  "
      ]
     },
     "execution_count": 35,
     "metadata": {},
     "output_type": "execute_result"
    }
   ],
   "source": [
    "train_df.head()"
   ]
  },
  {
   "cell_type": "markdown",
   "metadata": {},
   "source": [
    "## 1.2 空值填充"
   ]
  },
  {
   "cell_type": "code",
   "execution_count": 11,
   "metadata": {},
   "outputs": [],
   "source": [
    "# 2. 空值剔除\n",
    "train_df.dropna(subset=['Report'], inplace=True)\n",
    "\n",
    "train_df.fillna('', inplace=True)\n",
    "test_df.fillna('', inplace=True)"
   ]
  },
  {
   "cell_type": "markdown",
   "metadata": {},
   "source": [
    "## 1.3.多核, 批量数据处理"
   ]
  },
  {
   "cell_type": "code",
   "execution_count": 12,
   "metadata": {},
   "outputs": [
    {
     "name": "stdout",
     "output_type": "stream",
     "text": [
      "CPU times: user 6min 10s, sys: 2.48 s, total: 6min 13s\n",
      "Wall time: 6min 16s\n"
     ]
    }
   ],
   "source": [
    "%%time\n",
    "train_df=sentences_proc(train_df)\n",
    "test_df=sentences_proc(test_df)"
   ]
  },
  {
   "cell_type": "code",
   "execution_count": 13,
   "metadata": {},
   "outputs": [
    {
     "name": "stdout",
     "output_type": "stream",
     "text": [
      "CPU times: user 1.2 s, sys: 617 ms, total: 1.82 s\n",
      "Wall time: 1min 24s\n"
     ]
    }
   ],
   "source": [
    "%%time\n",
    "train_df = parallelize(train_df, sentences_proc)\n",
    "test_df = parallelize(test_df, sentences_proc)"
   ]
  },
  {
   "cell_type": "code",
   "execution_count": 10,
   "metadata": {},
   "outputs": [],
   "source": [
    "# %%time\n",
    "# train_df = parallelize(train_df, sentences_proc)\n",
    "# test_df = parallelize(test_df, sentences_proc)"
   ]
  },
  {
   "cell_type": "markdown",
   "metadata": {},
   "source": [
    "## 1.4 合并训练测试数据"
   ]
  },
  {
   "cell_type": "code",
   "execution_count": 14,
   "metadata": {},
   "outputs": [
    {
     "name": "stdout",
     "output_type": "stream",
     "text": [
      "train data size 82873,test data size 20000,merged_df data size 102873\n"
     ]
    }
   ],
   "source": [
    "train_df['merged'] = train_df[['Question', 'Dialogue', 'Report']].apply(lambda x: ' '.join(x), axis=1)\n",
    "test_df['merged'] = test_df[['Question', 'Dialogue']].apply(lambda x: ' '.join(x), axis=1)\n",
    "merged_df = pd.concat([train_df[['merged']], test_df[['merged']]], axis=0)\n",
    "print('train data size {},test data size {},merged_df data size {}'.format(len(train_df), len(test_df),len(merged_df)))"
   ]
  },
  {
   "cell_type": "markdown",
   "metadata": {},
   "source": [
    "## 1.5 保存处理好的 训练 测试集合"
   ]
  },
  {
   "cell_type": "code",
   "execution_count": 15,
   "metadata": {},
   "outputs": [],
   "source": [
    "train_df = train_df.drop(['merged'], axis=1)\n",
    "test_df = test_df.drop(['merged'], axis=1)\n",
    "train_df.to_csv(train_seg_path, index=None, header=True)\n",
    "test_df.to_csv(test_seg_path, index=None, header=True)\n",
    "merged_df.to_csv(merger_seg_path, index=None, header=False)"
   ]
  },
  {
   "cell_type": "markdown",
   "metadata": {},
   "source": [
    "# 2. 词向量"
   ]
  },
  {
   "cell_type": "markdown",
   "metadata": {},
   "source": [
    "## 2.1 预训练词向量"
   ]
  },
  {
   "cell_type": "code",
   "execution_count": 16,
   "metadata": {},
   "outputs": [
    {
     "data": {
      "text/plain": [
       "'/Users/sara/Documents/算法学习/NLP/nlp名企/作业讲课资料/1-2/seq2seq/code/data/merged_train_test_seg_data.csv'"
      ]
     },
     "execution_count": 16,
     "metadata": {},
     "output_type": "execute_result"
    }
   ],
   "source": [
    "merger_seg_path"
   ]
  },
  {
   "cell_type": "code",
   "execution_count": 17,
   "metadata": {
    "scrolled": true
   },
   "outputs": [
    {
     "name": "stderr",
     "output_type": "stream",
     "text": [
      "2020-08-19 17:11:27,112 : INFO : collecting all words and their counts\n",
      "2020-08-19 17:11:27,113 : INFO : PROGRESS: at sentence #0, processed 0 words, keeping 0 word types\n",
      "2020-08-19 17:11:27,572 : INFO : PROGRESS: at sentence #10000, processed 1280513 words, keeping 33450 word types\n",
      "2020-08-19 17:11:27,985 : INFO : PROGRESS: at sentence #20000, processed 2579769 words, keeping 48483 word types\n",
      "2020-08-19 17:11:28,455 : INFO : PROGRESS: at sentence #30000, processed 3854040 words, keeping 59566 word types\n",
      "2020-08-19 17:11:28,862 : INFO : PROGRESS: at sentence #40000, processed 5093606 words, keeping 68837 word types\n",
      "2020-08-19 17:11:29,300 : INFO : PROGRESS: at sentence #50000, processed 6408013 words, keeping 77054 word types\n",
      "2020-08-19 17:11:29,759 : INFO : PROGRESS: at sentence #60000, processed 7805959 words, keeping 85348 word types\n",
      "2020-08-19 17:11:30,227 : INFO : PROGRESS: at sentence #70000, processed 9234104 words, keeping 93454 word types\n",
      "2020-08-19 17:11:30,722 : INFO : PROGRESS: at sentence #80000, processed 10505341 words, keeping 100280 word types\n",
      "2020-08-19 17:11:31,133 : INFO : PROGRESS: at sentence #90000, processed 11666481 words, keeping 106943 word types\n",
      "2020-08-19 17:11:31,550 : INFO : PROGRESS: at sentence #100000, processed 12828527 words, keeping 112831 word types\n",
      "2020-08-19 17:11:31,671 : INFO : collected 114510 word types from a corpus of 13171197 raw words and 102873 sentences\n",
      "2020-08-19 17:11:31,672 : INFO : Loading a fresh vocabulary\n",
      "2020-08-19 17:11:31,840 : INFO : effective_min_count=5 retains 31081 unique words (27% of original 114510, drops 83429)\n",
      "2020-08-19 17:11:31,841 : INFO : effective_min_count=5 leaves 13043033 word corpus (99% of original 13171197, drops 128164)\n",
      "2020-08-19 17:11:31,943 : INFO : deleting the raw counts dictionary of 114510 items\n",
      "2020-08-19 17:11:31,947 : INFO : sample=0.001 downsamples 42 most-common words\n",
      "2020-08-19 17:11:31,948 : INFO : downsampling leaves estimated 9662865 word corpus (74.1% of prior 13043033)\n",
      "2020-08-19 17:11:32,040 : INFO : estimated required memory for 31081 words and 300 dimensions: 90134900 bytes\n",
      "2020-08-19 17:11:32,041 : INFO : resetting layer weights\n",
      "2020-08-19 17:11:38,544 : INFO : training model with 8 workers on 31081 vocabulary and 300 features, using sg=0 hs=0 sample=0.001 negative=5 window=3\n",
      "2020-08-19 17:11:39,550 : INFO : EPOCH 1 - PROGRESS: at 7.09% examples, 683429 words/s, in_qsize 15, out_qsize 0\n",
      "2020-08-19 17:11:40,555 : INFO : EPOCH 1 - PROGRESS: at 15.19% examples, 729527 words/s, in_qsize 9, out_qsize 0\n",
      "2020-08-19 17:11:41,578 : INFO : EPOCH 1 - PROGRESS: at 23.84% examples, 762361 words/s, in_qsize 15, out_qsize 0\n",
      "2020-08-19 17:11:42,593 : INFO : EPOCH 1 - PROGRESS: at 33.17% examples, 789485 words/s, in_qsize 15, out_qsize 0\n",
      "2020-08-19 17:11:43,597 : INFO : EPOCH 1 - PROGRESS: at 42.29% examples, 802602 words/s, in_qsize 14, out_qsize 1\n",
      "2020-08-19 17:11:44,605 : INFO : EPOCH 1 - PROGRESS: at 51.04% examples, 816478 words/s, in_qsize 14, out_qsize 1\n",
      "2020-08-19 17:11:45,607 : INFO : EPOCH 1 - PROGRESS: at 58.63% examples, 814826 words/s, in_qsize 13, out_qsize 2\n",
      "2020-08-19 17:11:46,627 : INFO : EPOCH 1 - PROGRESS: at 67.05% examples, 823755 words/s, in_qsize 13, out_qsize 2\n",
      "2020-08-19 17:11:47,653 : INFO : EPOCH 1 - PROGRESS: at 75.46% examples, 822835 words/s, in_qsize 13, out_qsize 0\n",
      "2020-08-19 17:11:48,655 : INFO : EPOCH 1 - PROGRESS: at 84.28% examples, 818448 words/s, in_qsize 12, out_qsize 3\n",
      "2020-08-19 17:11:49,664 : INFO : EPOCH 1 - PROGRESS: at 93.68% examples, 820386 words/s, in_qsize 14, out_qsize 1\n",
      "2020-08-19 17:11:50,218 : INFO : worker thread finished; awaiting finish of 7 more threads\n",
      "2020-08-19 17:11:50,233 : INFO : worker thread finished; awaiting finish of 6 more threads\n",
      "2020-08-19 17:11:50,236 : INFO : worker thread finished; awaiting finish of 5 more threads\n",
      "2020-08-19 17:11:50,237 : INFO : worker thread finished; awaiting finish of 4 more threads\n",
      "2020-08-19 17:11:50,241 : INFO : worker thread finished; awaiting finish of 3 more threads\n",
      "2020-08-19 17:11:50,246 : INFO : worker thread finished; awaiting finish of 2 more threads\n",
      "2020-08-19 17:11:50,249 : INFO : worker thread finished; awaiting finish of 1 more threads\n",
      "2020-08-19 17:11:50,259 : INFO : worker thread finished; awaiting finish of 0 more threads\n",
      "2020-08-19 17:11:50,260 : INFO : EPOCH - 1 : training on 13171197 raw words (9662640 effective words) took 11.7s, 824969 effective words/s\n",
      "2020-08-19 17:11:51,288 : INFO : EPOCH 2 - PROGRESS: at 7.34% examples, 690695 words/s, in_qsize 12, out_qsize 4\n",
      "2020-08-19 17:11:52,294 : INFO : EPOCH 2 - PROGRESS: at 15.19% examples, 721879 words/s, in_qsize 15, out_qsize 0\n",
      "2020-08-19 17:11:53,307 : INFO : EPOCH 2 - PROGRESS: at 23.90% examples, 762215 words/s, in_qsize 14, out_qsize 0\n",
      "2020-08-19 17:11:54,323 : INFO : EPOCH 2 - PROGRESS: at 33.18% examples, 787078 words/s, in_qsize 14, out_qsize 2\n",
      "2020-08-19 17:11:55,337 : INFO : EPOCH 2 - PROGRESS: at 42.36% examples, 800484 words/s, in_qsize 15, out_qsize 0\n",
      "2020-08-19 17:11:56,338 : INFO : EPOCH 2 - PROGRESS: at 50.69% examples, 808287 words/s, in_qsize 14, out_qsize 0\n",
      "2020-08-19 17:11:57,350 : INFO : EPOCH 2 - PROGRESS: at 58.43% examples, 808622 words/s, in_qsize 14, out_qsize 2\n",
      "2020-08-19 17:11:58,378 : INFO : EPOCH 2 - PROGRESS: at 66.34% examples, 810415 words/s, in_qsize 13, out_qsize 2\n",
      "2020-08-19 17:11:59,388 : INFO : EPOCH 2 - PROGRESS: at 74.56% examples, 812295 words/s, in_qsize 13, out_qsize 0\n",
      "2020-08-19 17:12:00,395 : INFO : EPOCH 2 - PROGRESS: at 83.39% examples, 809299 words/s, in_qsize 15, out_qsize 0\n",
      "2020-08-19 17:12:01,405 : INFO : EPOCH 2 - PROGRESS: at 92.72% examples, 812080 words/s, in_qsize 15, out_qsize 0\n",
      "2020-08-19 17:12:02,077 : INFO : worker thread finished; awaiting finish of 7 more threads\n",
      "2020-08-19 17:12:02,088 : INFO : worker thread finished; awaiting finish of 6 more threads\n",
      "2020-08-19 17:12:02,092 : INFO : worker thread finished; awaiting finish of 5 more threads\n",
      "2020-08-19 17:12:02,093 : INFO : worker thread finished; awaiting finish of 4 more threads\n",
      "2020-08-19 17:12:02,097 : INFO : worker thread finished; awaiting finish of 3 more threads\n",
      "2020-08-19 17:12:02,107 : INFO : worker thread finished; awaiting finish of 2 more threads\n",
      "2020-08-19 17:12:02,110 : INFO : worker thread finished; awaiting finish of 1 more threads\n",
      "2020-08-19 17:12:02,113 : INFO : worker thread finished; awaiting finish of 0 more threads\n",
      "2020-08-19 17:12:02,114 : INFO : EPOCH - 2 : training on 13171197 raw words (9662047 effective words) took 11.8s, 815401 effective words/s\n",
      "2020-08-19 17:12:03,126 : INFO : EPOCH 3 - PROGRESS: at 8.18% examples, 780304 words/s, in_qsize 15, out_qsize 0\n",
      "2020-08-19 17:12:04,140 : INFO : EPOCH 3 - PROGRESS: at 16.29% examples, 774345 words/s, in_qsize 15, out_qsize 0\n",
      "2020-08-19 17:12:05,164 : INFO : EPOCH 3 - PROGRESS: at 24.55% examples, 782768 words/s, in_qsize 15, out_qsize 0\n",
      "2020-08-19 17:12:06,167 : INFO : EPOCH 3 - PROGRESS: at 34.60% examples, 821617 words/s, in_qsize 15, out_qsize 0\n",
      "2020-08-19 17:12:07,173 : INFO : EPOCH 3 - PROGRESS: at 42.89% examples, 813765 words/s, in_qsize 15, out_qsize 0\n",
      "2020-08-19 17:12:08,173 : INFO : EPOCH 3 - PROGRESS: at 49.47% examples, 790662 words/s, in_qsize 14, out_qsize 1\n",
      "2020-08-19 17:12:09,189 : INFO : EPOCH 3 - PROGRESS: at 56.38% examples, 778774 words/s, in_qsize 13, out_qsize 2\n",
      "2020-08-19 17:12:10,189 : INFO : EPOCH 3 - PROGRESS: at 63.87% examples, 781626 words/s, in_qsize 13, out_qsize 2\n",
      "2020-08-19 17:12:11,190 : INFO : EPOCH 3 - PROGRESS: at 71.80% examples, 787480 words/s, in_qsize 16, out_qsize 1\n",
      "2020-08-19 17:12:12,210 : INFO : EPOCH 3 - PROGRESS: at 82.39% examples, 803133 words/s, in_qsize 13, out_qsize 2\n",
      "2020-08-19 17:12:13,218 : INFO : EPOCH 3 - PROGRESS: at 92.63% examples, 814542 words/s, in_qsize 13, out_qsize 1\n",
      "2020-08-19 17:12:13,835 : INFO : worker thread finished; awaiting finish of 7 more threads\n",
      "2020-08-19 17:12:13,838 : INFO : worker thread finished; awaiting finish of 6 more threads\n",
      "2020-08-19 17:12:13,844 : INFO : worker thread finished; awaiting finish of 5 more threads\n",
      "2020-08-19 17:12:13,850 : INFO : worker thread finished; awaiting finish of 4 more threads\n",
      "2020-08-19 17:12:13,861 : INFO : worker thread finished; awaiting finish of 3 more threads\n",
      "2020-08-19 17:12:13,865 : INFO : worker thread finished; awaiting finish of 2 more threads\n",
      "2020-08-19 17:12:13,866 : INFO : worker thread finished; awaiting finish of 1 more threads\n",
      "2020-08-19 17:12:13,869 : INFO : worker thread finished; awaiting finish of 0 more threads\n",
      "2020-08-19 17:12:13,870 : INFO : EPOCH - 3 : training on 13171197 raw words (9663865 effective words) took 11.8s, 822278 effective words/s\n",
      "2020-08-19 17:12:14,899 : INFO : EPOCH 4 - PROGRESS: at 7.53% examples, 704431 words/s, in_qsize 14, out_qsize 3\n",
      "2020-08-19 17:12:15,919 : INFO : EPOCH 4 - PROGRESS: at 17.39% examples, 818964 words/s, in_qsize 14, out_qsize 1\n",
      "2020-08-19 17:12:16,940 : INFO : EPOCH 4 - PROGRESS: at 26.90% examples, 851491 words/s, in_qsize 14, out_qsize 1\n",
      "2020-08-19 17:12:17,960 : INFO : EPOCH 4 - PROGRESS: at 36.61% examples, 858676 words/s, in_qsize 12, out_qsize 3\n",
      "2020-08-19 17:12:18,974 : INFO : EPOCH 4 - PROGRESS: at 45.88% examples, 864815 words/s, in_qsize 13, out_qsize 2\n",
      "2020-08-19 17:12:19,984 : INFO : EPOCH 4 - PROGRESS: at 54.49% examples, 866545 words/s, in_qsize 15, out_qsize 0\n",
      "2020-08-19 17:12:20,998 : INFO : EPOCH 4 - PROGRESS: at 62.76% examples, 869945 words/s, in_qsize 15, out_qsize 0\n",
      "2020-08-19 17:12:22,018 : INFO : EPOCH 4 - PROGRESS: at 71.92% examples, 878876 words/s, in_qsize 15, out_qsize 0\n",
      "2020-08-19 17:12:23,042 : INFO : EPOCH 4 - PROGRESS: at 82.22% examples, 882314 words/s, in_qsize 15, out_qsize 0\n",
      "2020-08-19 17:12:24,045 : INFO : EPOCH 4 - PROGRESS: at 90.87% examples, 875286 words/s, in_qsize 15, out_qsize 0\n",
      "2020-08-19 17:12:24,872 : INFO : worker thread finished; awaiting finish of 7 more threads\n",
      "2020-08-19 17:12:24,875 : INFO : worker thread finished; awaiting finish of 6 more threads\n",
      "2020-08-19 17:12:24,880 : INFO : worker thread finished; awaiting finish of 5 more threads\n",
      "2020-08-19 17:12:24,886 : INFO : worker thread finished; awaiting finish of 4 more threads\n",
      "2020-08-19 17:12:24,896 : INFO : worker thread finished; awaiting finish of 3 more threads\n",
      "2020-08-19 17:12:24,898 : INFO : worker thread finished; awaiting finish of 2 more threads\n",
      "2020-08-19 17:12:24,899 : INFO : worker thread finished; awaiting finish of 1 more threads\n",
      "2020-08-19 17:12:24,901 : INFO : worker thread finished; awaiting finish of 0 more threads\n",
      "2020-08-19 17:12:24,902 : INFO : EPOCH - 4 : training on 13171197 raw words (9661992 effective words) took 11.0s, 876143 effective words/s\n",
      "2020-08-19 17:12:25,923 : INFO : EPOCH 5 - PROGRESS: at 9.26% examples, 873907 words/s, in_qsize 12, out_qsize 3\n",
      "2020-08-19 17:12:26,947 : INFO : EPOCH 5 - PROGRESS: at 18.83% examples, 891866 words/s, in_qsize 15, out_qsize 0\n",
      "2020-08-19 17:12:27,947 : INFO : EPOCH 5 - PROGRESS: at 28.42% examples, 904045 words/s, in_qsize 14, out_qsize 0\n",
      "2020-08-19 17:12:28,976 : INFO : EPOCH 5 - PROGRESS: at 37.97% examples, 894517 words/s, in_qsize 14, out_qsize 1\n",
      "2020-08-19 17:12:29,983 : INFO : EPOCH 5 - PROGRESS: at 47.50% examples, 901802 words/s, in_qsize 14, out_qsize 1\n",
      "2020-08-19 17:12:31,009 : INFO : EPOCH 5 - PROGRESS: at 56.31% examples, 901203 words/s, in_qsize 13, out_qsize 2\n",
      "2020-08-19 17:12:32,030 : INFO : EPOCH 5 - PROGRESS: at 65.37% examples, 908096 words/s, in_qsize 13, out_qsize 2\n",
      "2020-08-19 17:12:33,032 : INFO : EPOCH 5 - PROGRESS: at 74.66% examples, 913182 words/s, in_qsize 16, out_qsize 0\n",
      "2020-08-19 17:12:34,046 : INFO : EPOCH 5 - PROGRESS: at 85.17% examples, 913985 words/s, in_qsize 14, out_qsize 1\n",
      "2020-08-19 17:12:35,068 : INFO : EPOCH 5 - PROGRESS: at 95.39% examples, 911094 words/s, in_qsize 13, out_qsize 2\n",
      "2020-08-19 17:12:35,452 : INFO : worker thread finished; awaiting finish of 7 more threads\n",
      "2020-08-19 17:12:35,457 : INFO : worker thread finished; awaiting finish of 6 more threads\n",
      "2020-08-19 17:12:35,458 : INFO : worker thread finished; awaiting finish of 5 more threads\n",
      "2020-08-19 17:12:35,459 : INFO : worker thread finished; awaiting finish of 4 more threads\n",
      "2020-08-19 17:12:35,460 : INFO : worker thread finished; awaiting finish of 3 more threads\n",
      "2020-08-19 17:12:35,472 : INFO : worker thread finished; awaiting finish of 2 more threads\n",
      "2020-08-19 17:12:35,474 : INFO : worker thread finished; awaiting finish of 1 more threads\n",
      "2020-08-19 17:12:35,476 : INFO : worker thread finished; awaiting finish of 0 more threads\n",
      "2020-08-19 17:12:35,477 : INFO : EPOCH - 5 : training on 13171197 raw words (9662907 effective words) took 10.6s, 914213 effective words/s\n",
      "2020-08-19 17:12:35,478 : INFO : training on a 65855985 raw words (48313451 effective words) took 56.9s, 848599 effective words/s\n"
     ]
    }
   ],
   "source": [
    "wv_model = Word2Vec(LineSentence(merger_seg_path),\n",
    "                    size=300, \n",
    "                    negative=5, \n",
    "                    workers=8,\n",
    "                    iter=wv_train_epochs, \n",
    "                    window=3,\n",
    "                    min_count=5)"
   ]
  },
  {
   "cell_type": "code",
   "execution_count": 19,
   "metadata": {},
   "outputs": [
    {
     "data": {
      "text/plain": [
       "<gensim.models.word2vec.Word2Vec at 0x7fa35d570710>"
      ]
     },
     "execution_count": 19,
     "metadata": {},
     "output_type": "execute_result"
    }
   ],
   "source": [
    "wv_model"
   ]
  },
  {
   "cell_type": "markdown",
   "metadata": {},
   "source": [
    "## 2.2. 建立词表"
   ]
  },
  {
   "cell_type": "code",
   "execution_count": 20,
   "metadata": {},
   "outputs": [
    {
     "data": {
      "text/plain": [
       "31081"
      ]
     },
     "execution_count": 20,
     "metadata": {},
     "output_type": "execute_result"
    }
   ],
   "source": [
    "vocab = {word: index for index, word in enumerate(wv_model.wv.index2word)}\n",
    "reverse_vocab = {index: word for index, word in enumerate(wv_model.wv.index2word)}\n",
    "len(vocab)"
   ]
  },
  {
   "cell_type": "code",
   "execution_count": null,
   "metadata": {},
   "outputs": [],
   "source": [
    "vocab"
   ]
  },
  {
   "cell_type": "code",
   "execution_count": 21,
   "metadata": {},
   "outputs": [],
   "source": [
    "sentence=['技师说','帕萨特','机油']"
   ]
  },
  {
   "cell_type": "code",
   "execution_count": null,
   "metadata": {},
   "outputs": [],
   "source": []
  },
  {
   "cell_type": "code",
   "execution_count": 22,
   "metadata": {},
   "outputs": [
    {
     "data": {
      "text/plain": [
       "[1, 1071, 24]"
      ]
     },
     "execution_count": 22,
     "metadata": {},
     "output_type": "execute_result"
    }
   ],
   "source": [
    "[vocab[word]for word in sentence]"
   ]
  },
  {
   "cell_type": "code",
   "execution_count": 23,
   "metadata": {},
   "outputs": [
    {
     "data": {
      "text/plain": [
       "['技师说', '两边', '机油']"
      ]
     },
     "execution_count": 23,
     "metadata": {},
     "output_type": "execute_result"
    }
   ],
   "source": [
    "[reverse_vocab[index] for index in [1, 1076, 24]]"
   ]
  },
  {
   "cell_type": "markdown",
   "metadata": {},
   "source": [
    "## Q 1 .使用了min_count,其实部分词不在vocab表中 ,但是训练数据和测试数据中又有这些词?\n",
    "\n",
    "---\n"
   ]
  },
  {
   "cell_type": "markdown",
   "metadata": {},
   "source": [
    "## 2.3. 获取词向量矩阵"
   ]
  },
  {
   "cell_type": "code",
   "execution_count": 24,
   "metadata": {},
   "outputs": [
    {
     "data": {
      "text/plain": [
       "(31081, 300)"
      ]
     },
     "execution_count": 24,
     "metadata": {},
     "output_type": "execute_result"
    }
   ],
   "source": [
    "embedding_matrix = wv_model.wv.vectors\n",
    "embedding_matrix.shape"
   ]
  },
  {
   "cell_type": "code",
   "execution_count": 25,
   "metadata": {},
   "outputs": [
    {
     "data": {
      "text/plain": [
       "array([[ 1.8661356e-01,  2.6669255e-01, -2.0303488e-01, ...,\n",
       "        -3.7490058e-01,  1.5657571e-01, -4.8082581e-01],\n",
       "       [ 3.6642390e-01, -4.0947658e-01, -1.2689227e-01, ...,\n",
       "         5.5439848e-02, -7.4810579e-02,  6.6715712e-03],\n",
       "       [-4.1605449e-01,  6.8964325e-02,  5.3321660e-01, ...,\n",
       "         2.4555589e-01,  3.1569359e-01, -3.8069963e-01],\n",
       "       ...,\n",
       "       [-3.5903111e-02,  1.5965585e-02,  3.8452737e-02, ...,\n",
       "         8.1684219e-04, -2.0354069e-04, -1.8332239e-02],\n",
       "       [ 4.0782291e-02,  3.3266533e-02, -4.6292227e-03, ...,\n",
       "         8.7010236e-03,  4.5694578e-03,  4.6086729e-02],\n",
       "       [ 8.6475909e-03, -1.6157508e-02,  3.1429492e-02, ...,\n",
       "         3.0564722e-02,  5.9913035e-02,  2.0184094e-02]], dtype=float32)"
      ]
     },
     "execution_count": 25,
     "metadata": {},
     "output_type": "execute_result"
    }
   ],
   "source": [
    "embedding_matrix"
   ]
  },
  {
   "cell_type": "markdown",
   "metadata": {},
   "source": [
    "## 3. 构建训练数据"
   ]
  },
  {
   "cell_type": "markdown",
   "metadata": {},
   "source": [
    "+ 可以把Question,Dialogue当做一句 `长文本处理`, 合并构建成X\n",
    "+ Report作为需要预测的标签,构建Y"
   ]
  },
  {
   "cell_type": "code",
   "execution_count": 26,
   "metadata": {},
   "outputs": [],
   "source": [
    "train_df['X'] = train_df[['Question', 'Dialogue']].apply(lambda x: ' '.join(x), axis=1)\n",
    "test_df['X'] = test_df[['Question', 'Dialogue']].apply(lambda x: ' '.join(x), axis=1)"
   ]
  },
  {
   "cell_type": "code",
   "execution_count": 27,
   "metadata": {},
   "outputs": [
    {
     "data": {
      "text/plain": [
       "0    方向机 重 ， 助力 泵 ， 方向机 都 换 技师说 车主说 新 都 换 车主说 助力 泵 ...\n",
       "1    奔驰 ML500 排气 凸轮轴 调节 错误 技师说 有没有 电脑 检测 故障 代码 。 车主...\n",
       "2    2010 款 宝马X1 ， 2011 年 出厂 ， 2.0 排量 ， 通用 6L45 变速箱...\n",
       "3    3.0 V6 发动机 号 位置 ， 照片 最好 ！ 技师说 右侧 排气管 上方 ， 缸体 上...\n",
       "4    2012 款 奔驰 c180 ， 维修保养 ， 动力 ， 值得 拥有 技师说 家庭 用车 ，...\n",
       "Name: X, dtype: object"
      ]
     },
     "execution_count": 27,
     "metadata": {},
     "output_type": "execute_result"
    }
   ],
   "source": [
    "train_df['X'].head()"
   ]
  },
  {
   "cell_type": "markdown",
   "metadata": {},
   "source": [
    "# Q 2. 句子长度一样 ? 如何构建训练,batch操作,矩阵 ...\n",
    "\n",
    "---"
   ]
  },
  {
   "cell_type": "markdown",
   "metadata": {},
   "source": [
    "## 3.1 填充字段"
   ]
  },
  {
   "cell_type": "code",
   "execution_count": 28,
   "metadata": {},
   "outputs": [],
   "source": [
    "def pad_proc(sentence, max_len, vocab):\n",
    "    '''\n",
    "    < start > < end > < pad > < unk >\n",
    "    '''\n",
    "    # 0.按空格统计切分出词\n",
    "    words = sentence.strip().split(' ')\n",
    "    # 1. 截取规定长度的词数\n",
    "    words = words[:max_len]\n",
    "    # 2. 填充< unk > ,判断是否在vocab中, 不在填充 < unk >\n",
    "    sentence = [word if word in vocab else '<UNK>' for word in words]\n",
    "    # 3. 填充< start > < end >\n",
    "    sentence = ['<START>'] + sentence + ['<STOP>']\n",
    "    # 4. 判断长度，填充　< pad >\n",
    "    sentence = sentence + ['<PAD>'] * (max_len + 2 - len(words))\n",
    "    return ' '.join(sentence)"
   ]
  },
  {
   "cell_type": "code",
   "execution_count": null,
   "metadata": {},
   "outputs": [],
   "source": [
    "pad_proc('技师说 帕萨特 机油', max_len=2, vocab=vocab)"
   ]
  },
  {
   "cell_type": "code",
   "execution_count": null,
   "metadata": {},
   "outputs": [],
   "source": []
  },
  {
   "cell_type": "code",
   "execution_count": null,
   "metadata": {},
   "outputs": [],
   "source": []
  },
  {
   "cell_type": "code",
   "execution_count": null,
   "metadata": {},
   "outputs": [],
   "source": []
  },
  {
   "cell_type": "markdown",
   "metadata": {},
   "source": [
    "# 休息一下，9.10分继续"
   ]
  },
  {
   "cell_type": "code",
   "execution_count": null,
   "metadata": {},
   "outputs": [],
   "source": []
  },
  {
   "cell_type": "code",
   "execution_count": null,
   "metadata": {},
   "outputs": [],
   "source": []
  },
  {
   "cell_type": "markdown",
   "metadata": {},
   "source": [
    "# Q3. 如何确定max_len的值? 经验 ?"
   ]
  },
  {
   "cell_type": "markdown",
   "metadata": {},
   "source": [
    "## 3.2 获取适当的Max_Len"
   ]
  },
  {
   "cell_type": "code",
   "execution_count": 30,
   "metadata": {},
   "outputs": [],
   "source": [
    "def get_max_len(data):\n",
    "    \"\"\"\n",
    "    获得合适的最大长度值\n",
    "    :param data: 待统计的数据  train_df['Question']\n",
    "    :return: 最大长度值\n",
    "    \"\"\"\n",
    "    max_lens = data.apply(lambda x: x.count(' '))\n",
    "    return int(np.mean(max_lens) + 2 * np.std(max_lens))"
   ]
  },
  {
   "cell_type": "code",
   "execution_count": 31,
   "metadata": {},
   "outputs": [],
   "source": [
    "# 获取输入数据 适当的最大长度\n",
    "train_y_max_len = get_max_len(train_df['X'])\n",
    "test_y_max_len = get_max_len(test_df['X'])\n",
    "y_max_len = max(train_y_max_len, test_y_max_len)\n",
    "\n",
    "# 获取标签数据 适当的最大长度\n",
    "train_y_max_len = get_max_len(train_df['Report'])"
   ]
  },
  {
   "cell_type": "code",
   "execution_count": 32,
   "metadata": {},
   "outputs": [
    {
     "data": {
      "text/plain": [
       "38"
      ]
     },
     "execution_count": 32,
     "metadata": {},
     "output_type": "execute_result"
    }
   ],
   "source": [
    "train_y_max_len"
   ]
  },
  {
   "cell_type": "code",
   "execution_count": 34,
   "metadata": {},
   "outputs": [],
   "source": [
    "X_max_len=200"
   ]
  },
  {
   "cell_type": "markdown",
   "metadata": {},
   "source": [
    "## 3.3 填充处理"
   ]
  },
  {
   "cell_type": "markdown",
   "metadata": {},
   "source": [
    "+ < start > - 句子开始\n",
    "+ < end > - 句子结尾\n",
    "+ < pad > - 短句填充\n",
    "+ < unk > - 未知词"
   ]
  },
  {
   "cell_type": "code",
   "execution_count": 35,
   "metadata": {},
   "outputs": [],
   "source": [
    "# 训练集X处理\n",
    "train_df['X'] = train_df['X'].apply(lambda x: pad_proc(x, X_max_len, vocab))\n",
    "# 训练集Y处理\n",
    "train_df['Y'] = train_df['Report'].apply(lambda x: pad_proc(x, train_y_max_len, vocab))\n",
    "# 测试集X处理\n",
    "test_df['X'] = test_df['X'].apply(lambda x: pad_proc(x, X_max_len, vocab))"
   ]
  },
  {
   "cell_type": "code",
   "execution_count": 36,
   "metadata": {},
   "outputs": [
    {
     "data": {
      "text/plain": [
       "'/Users/sara/Documents/算法学习/NLP/nlp名企/作业讲课资料/1-2/seq2seq/code/data/train_X_pad_data.csv'"
      ]
     },
     "execution_count": 36,
     "metadata": {},
     "output_type": "execute_result"
    }
   ],
   "source": [
    "train_x_pad_path"
   ]
  },
  {
   "cell_type": "code",
   "execution_count": 37,
   "metadata": {},
   "outputs": [],
   "source": [
    "# 保存中间结果数据\n",
    "train_df['X'].to_csv(train_x_pad_path, index=None, header=False)\n",
    "train_df['Y'].to_csv(train_y_pad_path, index=None, header=False)\n",
    "test_df['X'].to_csv(test_x_pad_path, index=None, header=False)"
   ]
  },
  {
   "cell_type": "code",
   "execution_count": 39,
   "metadata": {},
   "outputs": [
    {
     "data": {
      "text/plain": [
       "0        <START> 帕萨特 烧 机油 ？ 技师说 你好 ， 请问 车 跑 公里 ， 保修期 内 ...\n",
       "1        <START> 修 一下 钱 换 修 技师说 你好 师傅 ！ 抛光 处理 一下 好 ！ 50...\n",
       "2        <START> 帕萨特 领域 喇叭 坏 店里 说 方向盘 <UNK> 坏 换 一根 两三百 ...\n",
       "3        <START> 发动机 漏气 会 征兆 ？ 技师说 你好 ！ 发动机 没力 ， 伴有 “ 啪...\n",
       "4        <START> 请问 那天 右 后 胎扎 订 ， 补 胎后 跑 高速 80 有点 抖 ， 1...\n",
       "                               ...                        \n",
       "19995    <START> 路虎 极光 2.0 t 发动机 ， 进气 链轮 损坏 更换 进气 链轮 后 ...\n",
       "19996    <START> 别克 英朗XT <UNK> 后 ， 发现 左 雾灯 下雨 后 起雾 ， 更换...\n",
       "19997    <START> 师傅 ， 想 问 下车 一周 开 两次 周一 开 过来 周五 开回去 对车 ...\n",
       "19998    <START> 你好 大师 ， 车前 分泵 ， 制动 钳 导管 之间 晃动 ， 颠簸 路段 ...\n",
       "19999    <START> 大师 好 ， 东风风光330 开车 下坡 时 没有 踩 刹车 四档 不 小心...\n",
       "Name: X, Length: 20000, dtype: object"
      ]
     },
     "execution_count": 39,
     "metadata": {},
     "output_type": "execute_result"
    }
   ],
   "source": [
    "test_df['X']"
   ]
  },
  {
   "cell_type": "markdown",
   "metadata": {},
   "source": [
    "## Q4 新加的符号不在词表 和 词向量矩阵中,怎么办?"
   ]
  },
  {
   "cell_type": "markdown",
   "metadata": {},
   "source": [
    "## 3.4 词表更新"
   ]
  },
  {
   "cell_type": "code",
   "execution_count": 40,
   "metadata": {
    "scrolled": true
   },
   "outputs": [
    {
     "name": "stderr",
     "output_type": "stream",
     "text": [
      "2020-08-19 17:15:10,431 : INFO : collecting all words and their counts\n",
      "2020-08-19 17:15:10,432 : INFO : PROGRESS: at sentence #0, processed 0 words, keeping 0 word types\n"
     ]
    },
    {
     "name": "stdout",
     "output_type": "stream",
     "text": [
      "start retrain w2v model\n"
     ]
    },
    {
     "name": "stderr",
     "output_type": "stream",
     "text": [
      "2020-08-19 17:15:11,089 : INFO : PROGRESS: at sentence #10000, processed 2040000 words, keeping 20639 word types\n",
      "2020-08-19 17:15:11,708 : INFO : PROGRESS: at sentence #20000, processed 4080000 words, keeping 25440 word types\n",
      "2020-08-19 17:15:12,316 : INFO : PROGRESS: at sentence #30000, processed 6120000 words, keeping 27774 word types\n",
      "2020-08-19 17:15:12,925 : INFO : PROGRESS: at sentence #40000, processed 8160000 words, keeping 29070 word types\n",
      "2020-08-19 17:15:13,516 : INFO : PROGRESS: at sentence #50000, processed 10200000 words, keeping 29847 word types\n",
      "2020-08-19 17:15:14,050 : INFO : PROGRESS: at sentence #60000, processed 12240000 words, keeping 30394 word types\n",
      "2020-08-19 17:15:14,606 : INFO : PROGRESS: at sentence #70000, processed 14280000 words, keeping 30695 word types\n",
      "2020-08-19 17:15:15,140 : INFO : PROGRESS: at sentence #80000, processed 16320000 words, keeping 30840 word types\n",
      "2020-08-19 17:15:15,308 : INFO : collected 30872 word types from a corpus of 16906092 raw words and 82873 sentences\n",
      "2020-08-19 17:15:15,309 : INFO : Updating model with new vocabulary\n",
      "2020-08-19 17:15:15,336 : INFO : New added 24421 unique words (44% of original 55293) and increased the count of 24421 pre-existing words (44% of original 55293)\n",
      "2020-08-19 17:15:15,513 : INFO : deleting the raw counts dictionary of 30872 items\n",
      "2020-08-19 17:15:15,515 : INFO : sample=0.001 downsamples 40 most-common words\n",
      "2020-08-19 17:15:15,516 : INFO : downsampling leaves estimated 13866016 word corpus (82.1% of prior 16886442)\n",
      "2020-08-19 17:15:15,585 : INFO : estimated required memory for 48842 words and 300 dimensions: 141641800 bytes\n",
      "2020-08-19 17:15:15,586 : INFO : updating layer weights\n",
      "2020-08-19 17:15:15,640 : WARNING : Effective 'alpha' higher than previous training cycles\n",
      "2020-08-19 17:15:15,640 : INFO : training model with 8 workers on 31085 vocabulary and 300 features, using sg=0 hs=0 sample=0.001 negative=5 window=3\n",
      "2020-08-19 17:15:16,651 : INFO : EPOCH 1 - PROGRESS: at 9.76% examples, 663197 words/s, in_qsize 15, out_qsize 0\n",
      "2020-08-19 17:15:17,654 : INFO : EPOCH 1 - PROGRESS: at 18.98% examples, 649360 words/s, in_qsize 15, out_qsize 0\n",
      "2020-08-19 17:15:18,664 : INFO : EPOCH 1 - PROGRESS: at 28.97% examples, 662100 words/s, in_qsize 13, out_qsize 2\n",
      "2020-08-19 17:15:19,691 : INFO : EPOCH 1 - PROGRESS: at 38.85% examples, 659611 words/s, in_qsize 11, out_qsize 4\n",
      "2020-08-19 17:15:20,701 : INFO : EPOCH 1 - PROGRESS: at 48.90% examples, 659971 words/s, in_qsize 15, out_qsize 1\n",
      "2020-08-19 17:15:21,717 : INFO : EPOCH 1 - PROGRESS: at 58.83% examples, 663958 words/s, in_qsize 14, out_qsize 1\n",
      "2020-08-19 17:15:22,727 : INFO : EPOCH 1 - PROGRESS: at 67.58% examples, 657665 words/s, in_qsize 15, out_qsize 0\n",
      "2020-08-19 17:15:23,727 : INFO : EPOCH 1 - PROGRESS: at 75.86% examples, 651936 words/s, in_qsize 14, out_qsize 1\n",
      "2020-08-19 17:15:24,730 : INFO : EPOCH 1 - PROGRESS: at 84.85% examples, 651953 words/s, in_qsize 14, out_qsize 0\n",
      "2020-08-19 17:15:25,739 : INFO : EPOCH 1 - PROGRESS: at 94.60% examples, 653242 words/s, in_qsize 15, out_qsize 0\n",
      "2020-08-19 17:15:26,239 : INFO : worker thread finished; awaiting finish of 7 more threads\n",
      "2020-08-19 17:15:26,241 : INFO : worker thread finished; awaiting finish of 6 more threads\n",
      "2020-08-19 17:15:26,243 : INFO : worker thread finished; awaiting finish of 5 more threads\n",
      "2020-08-19 17:15:26,246 : INFO : worker thread finished; awaiting finish of 4 more threads\n",
      "2020-08-19 17:15:26,249 : INFO : worker thread finished; awaiting finish of 3 more threads\n",
      "2020-08-19 17:15:26,254 : INFO : worker thread finished; awaiting finish of 2 more threads\n",
      "2020-08-19 17:15:26,256 : INFO : worker thread finished; awaiting finish of 1 more threads\n",
      "2020-08-19 17:15:26,265 : INFO : worker thread finished; awaiting finish of 0 more threads\n",
      "2020-08-19 17:15:26,266 : INFO : EPOCH - 1 : training on 16906092 raw words (6953439 effective words) took 10.6s, 654646 effective words/s\n",
      "2020-08-19 17:15:27,276 : INFO : EPOCH 2 - PROGRESS: at 9.05% examples, 617638 words/s, in_qsize 14, out_qsize 1\n",
      "2020-08-19 17:15:28,278 : INFO : EPOCH 2 - PROGRESS: at 18.86% examples, 645571 words/s, in_qsize 13, out_qsize 2\n",
      "2020-08-19 17:15:29,285 : INFO : EPOCH 2 - PROGRESS: at 29.09% examples, 665770 words/s, in_qsize 15, out_qsize 2\n",
      "2020-08-19 17:15:30,301 : INFO : EPOCH 2 - PROGRESS: at 39.61% examples, 674826 words/s, in_qsize 14, out_qsize 1\n",
      "2020-08-19 17:15:31,305 : INFO : EPOCH 2 - PROGRESS: at 50.55% examples, 684247 words/s, in_qsize 12, out_qsize 3\n",
      "2020-08-19 17:15:32,310 : INFO : EPOCH 2 - PROGRESS: at 61.37% examples, 697821 words/s, in_qsize 16, out_qsize 0\n",
      "2020-08-19 17:15:33,326 : INFO : EPOCH 2 - PROGRESS: at 71.42% examples, 700281 words/s, in_qsize 14, out_qsize 2\n",
      "2020-08-19 17:15:34,330 : INFO : EPOCH 2 - PROGRESS: at 80.41% examples, 694077 words/s, in_qsize 14, out_qsize 1\n",
      "2020-08-19 17:15:35,334 : INFO : EPOCH 2 - PROGRESS: at 90.76% examples, 698712 words/s, in_qsize 15, out_qsize 0\n",
      "2020-08-19 17:15:36,185 : INFO : worker thread finished; awaiting finish of 7 more threads\n",
      "2020-08-19 17:15:36,198 : INFO : worker thread finished; awaiting finish of 6 more threads\n",
      "2020-08-19 17:15:36,200 : INFO : worker thread finished; awaiting finish of 5 more threads\n",
      "2020-08-19 17:15:36,203 : INFO : worker thread finished; awaiting finish of 4 more threads\n",
      "2020-08-19 17:15:36,208 : INFO : worker thread finished; awaiting finish of 3 more threads\n",
      "2020-08-19 17:15:36,213 : INFO : worker thread finished; awaiting finish of 2 more threads\n",
      "2020-08-19 17:15:36,214 : INFO : worker thread finished; awaiting finish of 1 more threads\n",
      "2020-08-19 17:15:36,216 : INFO : worker thread finished; awaiting finish of 0 more threads\n",
      "2020-08-19 17:15:36,217 : INFO : EPOCH - 2 : training on 16906092 raw words (6951859 effective words) took 9.9s, 698935 effective words/s\n",
      "2020-08-19 17:15:37,223 : INFO : EPOCH 3 - PROGRESS: at 9.93% examples, 679425 words/s, in_qsize 13, out_qsize 1\n",
      "2020-08-19 17:15:38,236 : INFO : EPOCH 3 - PROGRESS: at 19.98% examples, 680702 words/s, in_qsize 15, out_qsize 0\n",
      "2020-08-19 17:15:39,248 : INFO : EPOCH 3 - PROGRESS: at 29.27% examples, 667403 words/s, in_qsize 14, out_qsize 1\n",
      "2020-08-19 17:15:40,253 : INFO : EPOCH 3 - PROGRESS: at 38.43% examples, 655035 words/s, in_qsize 15, out_qsize 0\n",
      "2020-08-19 17:15:41,262 : INFO : EPOCH 3 - PROGRESS: at 48.84% examples, 661285 words/s, in_qsize 13, out_qsize 2\n",
      "2020-08-19 17:15:42,270 : INFO : EPOCH 3 - PROGRESS: at 59.54% examples, 675128 words/s, in_qsize 12, out_qsize 3\n",
      "2020-08-19 17:15:43,271 : INFO : EPOCH 3 - PROGRESS: at 70.12% examples, 687659 words/s, in_qsize 12, out_qsize 3\n",
      "2020-08-19 17:15:44,273 : INFO : EPOCH 3 - PROGRESS: at 80.83% examples, 698730 words/s, in_qsize 14, out_qsize 1\n",
      "2020-08-19 17:15:45,280 : INFO : EPOCH 3 - PROGRESS: at 91.35% examples, 703503 words/s, in_qsize 15, out_qsize 0\n",
      "2020-08-19 17:15:46,109 : INFO : worker thread finished; awaiting finish of 7 more threads\n",
      "2020-08-19 17:15:46,124 : INFO : worker thread finished; awaiting finish of 6 more threads\n",
      "2020-08-19 17:15:46,126 : INFO : worker thread finished; awaiting finish of 5 more threads\n",
      "2020-08-19 17:15:46,135 : INFO : worker thread finished; awaiting finish of 4 more threads\n",
      "2020-08-19 17:15:46,141 : INFO : worker thread finished; awaiting finish of 3 more threads\n",
      "2020-08-19 17:15:46,142 : INFO : worker thread finished; awaiting finish of 2 more threads\n",
      "2020-08-19 17:15:46,142 : INFO : worker thread finished; awaiting finish of 1 more threads\n",
      "2020-08-19 17:15:46,144 : INFO : worker thread finished; awaiting finish of 0 more threads\n",
      "2020-08-19 17:15:46,145 : INFO : EPOCH - 3 : training on 16906092 raw words (6952229 effective words) took 9.9s, 700513 effective words/s\n",
      "2020-08-19 17:15:47,151 : INFO : EPOCH 4 - PROGRESS: at 9.70% examples, 663366 words/s, in_qsize 14, out_qsize 1\n",
      "2020-08-19 17:15:48,163 : INFO : EPOCH 4 - PROGRESS: at 19.69% examples, 671237 words/s, in_qsize 14, out_qsize 1\n",
      "2020-08-19 17:15:49,174 : INFO : EPOCH 4 - PROGRESS: at 29.68% examples, 677937 words/s, in_qsize 14, out_qsize 1\n",
      "2020-08-19 17:15:50,181 : INFO : EPOCH 4 - PROGRESS: at 40.68% examples, 693146 words/s, in_qsize 16, out_qsize 0\n",
      "2020-08-19 17:15:51,195 : INFO : EPOCH 4 - PROGRESS: at 51.44% examples, 694895 words/s, in_qsize 12, out_qsize 3\n",
      "2020-08-19 17:15:52,201 : INFO : EPOCH 4 - PROGRESS: at 62.14% examples, 705991 words/s, in_qsize 11, out_qsize 4\n",
      "2020-08-19 17:15:53,209 : INFO : EPOCH 4 - PROGRESS: at 72.84% examples, 714990 words/s, in_qsize 14, out_qsize 1\n",
      "2020-08-19 17:15:54,214 : INFO : EPOCH 4 - PROGRESS: at 83.13% examples, 719049 words/s, in_qsize 14, out_qsize 1\n",
      "2020-08-19 17:15:55,218 : INFO : EPOCH 4 - PROGRESS: at 92.36% examples, 710478 words/s, in_qsize 14, out_qsize 0\n",
      "2020-08-19 17:15:55,990 : INFO : worker thread finished; awaiting finish of 7 more threads\n",
      "2020-08-19 17:15:55,993 : INFO : worker thread finished; awaiting finish of 6 more threads\n",
      "2020-08-19 17:15:55,994 : INFO : worker thread finished; awaiting finish of 5 more threads\n",
      "2020-08-19 17:15:55,996 : INFO : worker thread finished; awaiting finish of 4 more threads\n",
      "2020-08-19 17:15:55,998 : INFO : worker thread finished; awaiting finish of 3 more threads\n",
      "2020-08-19 17:15:56,000 : INFO : worker thread finished; awaiting finish of 2 more threads\n",
      "2020-08-19 17:15:56,001 : INFO : worker thread finished; awaiting finish of 1 more threads\n",
      "2020-08-19 17:15:56,010 : INFO : worker thread finished; awaiting finish of 0 more threads\n",
      "2020-08-19 17:15:56,011 : INFO : EPOCH - 4 : training on 16906092 raw words (6952353 effective words) took 9.9s, 705024 effective words/s\n",
      "2020-08-19 17:15:57,019 : INFO : EPOCH 5 - PROGRESS: at 9.99% examples, 682785 words/s, in_qsize 15, out_qsize 0\n",
      "2020-08-19 17:15:58,026 : INFO : EPOCH 5 - PROGRESS: at 20.04% examples, 684833 words/s, in_qsize 13, out_qsize 2\n",
      "2020-08-19 17:15:59,041 : INFO : EPOCH 5 - PROGRESS: at 30.75% examples, 701769 words/s, in_qsize 14, out_qsize 1\n",
      "2020-08-19 17:16:00,045 : INFO : EPOCH 5 - PROGRESS: at 40.68% examples, 693376 words/s, in_qsize 13, out_qsize 2\n",
      "2020-08-19 17:16:01,055 : INFO : EPOCH 5 - PROGRESS: at 50.61% examples, 684361 words/s, in_qsize 14, out_qsize 1\n",
      "2020-08-19 17:16:02,059 : INFO : EPOCH 5 - PROGRESS: at 60.07% examples, 681620 words/s, in_qsize 11, out_qsize 4\n",
      "2020-08-19 17:16:03,066 : INFO : EPOCH 5 - PROGRESS: at 70.07% examples, 686783 words/s, in_qsize 13, out_qsize 2\n",
      "2020-08-19 17:16:04,075 : INFO : EPOCH 5 - PROGRESS: at 80.23% examples, 692416 words/s, in_qsize 12, out_qsize 3\n",
      "2020-08-19 17:16:05,079 : INFO : EPOCH 5 - PROGRESS: at 89.93% examples, 692324 words/s, in_qsize 15, out_qsize 0\n",
      "2020-08-19 17:16:06,045 : INFO : worker thread finished; awaiting finish of 7 more threads\n",
      "2020-08-19 17:16:06,048 : INFO : worker thread finished; awaiting finish of 6 more threads\n",
      "2020-08-19 17:16:06,050 : INFO : worker thread finished; awaiting finish of 5 more threads\n",
      "2020-08-19 17:16:06,051 : INFO : worker thread finished; awaiting finish of 4 more threads\n",
      "2020-08-19 17:16:06,054 : INFO : worker thread finished; awaiting finish of 3 more threads\n",
      "2020-08-19 17:16:06,058 : INFO : worker thread finished; awaiting finish of 2 more threads\n",
      "2020-08-19 17:16:06,059 : INFO : worker thread finished; awaiting finish of 1 more threads\n",
      "2020-08-19 17:16:06,063 : INFO : worker thread finished; awaiting finish of 0 more threads\n",
      "2020-08-19 17:16:06,064 : INFO : EPOCH - 5 : training on 16906092 raw words (6951408 effective words) took 10.0s, 691784 effective words/s\n",
      "2020-08-19 17:16:06,064 : INFO : training on a 84530460 raw words (34761288 effective words) took 50.4s, 689387 effective words/s\n",
      "2020-08-19 17:16:06,065 : INFO : collecting all words and their counts\n",
      "2020-08-19 17:16:06,067 : INFO : PROGRESS: at sentence #0, processed 0 words, keeping 0 word types\n",
      "2020-08-19 17:16:06,210 : INFO : PROGRESS: at sentence #10000, processed 420000 words, keeping 7473 word types\n"
     ]
    },
    {
     "name": "stdout",
     "output_type": "stream",
     "text": [
      "1/3\n"
     ]
    },
    {
     "name": "stderr",
     "output_type": "stream",
     "text": [
      "2020-08-19 17:16:06,378 : INFO : PROGRESS: at sentence #20000, processed 840000 words, keeping 10105 word types\n",
      "2020-08-19 17:16:06,529 : INFO : PROGRESS: at sentence #30000, processed 1260000 words, keeping 11885 word types\n",
      "2020-08-19 17:16:06,671 : INFO : PROGRESS: at sentence #40000, processed 1680000 words, keeping 13310 word types\n",
      "2020-08-19 17:16:06,870 : INFO : PROGRESS: at sentence #50000, processed 2100000 words, keeping 14433 word types\n",
      "2020-08-19 17:16:07,021 : INFO : PROGRESS: at sentence #60000, processed 2520000 words, keeping 15476 word types\n",
      "2020-08-19 17:16:07,164 : INFO : PROGRESS: at sentence #70000, processed 2940000 words, keeping 16492 word types\n",
      "2020-08-19 17:16:07,304 : INFO : PROGRESS: at sentence #80000, processed 3360000 words, keeping 17214 word types\n",
      "2020-08-19 17:16:07,348 : INFO : collected 17434 word types from a corpus of 3480666 raw words and 82873 sentences\n",
      "2020-08-19 17:16:07,349 : INFO : Updating model with new vocabulary\n",
      "2020-08-19 17:16:07,363 : INFO : New added 6933 unique words (28% of original 24367) and increased the count of 6933 pre-existing words (28% of original 24367)\n",
      "2020-08-19 17:16:07,435 : INFO : deleting the raw counts dictionary of 17434 items\n",
      "2020-08-19 17:16:07,437 : INFO : sample=0.001 downsamples 36 most-common words\n",
      "2020-08-19 17:16:07,438 : INFO : downsampling leaves estimated 2383658 word corpus (68.9% of prior 3461548)\n",
      "2020-08-19 17:16:07,515 : INFO : estimated required memory for 13866 words and 300 dimensions: 40211400 bytes\n",
      "2020-08-19 17:16:07,516 : INFO : updating layer weights\n",
      "2020-08-19 17:16:07,556 : WARNING : Effective 'alpha' higher than previous training cycles\n",
      "2020-08-19 17:16:07,556 : INFO : training model with 8 workers on 31085 vocabulary and 300 features, using sg=0 hs=0 sample=0.001 negative=5 window=3\n",
      "2020-08-19 17:16:08,586 : INFO : EPOCH 1 - PROGRESS: at 35.32% examples, 412947 words/s, in_qsize 13, out_qsize 2\n",
      "2020-08-19 17:16:09,597 : INFO : EPOCH 1 - PROGRESS: at 81.27% examples, 487250 words/s, in_qsize 16, out_qsize 0\n",
      "2020-08-19 17:16:09,942 : INFO : worker thread finished; awaiting finish of 7 more threads\n",
      "2020-08-19 17:16:09,944 : INFO : worker thread finished; awaiting finish of 6 more threads\n",
      "2020-08-19 17:16:09,946 : INFO : worker thread finished; awaiting finish of 5 more threads\n",
      "2020-08-19 17:16:09,948 : INFO : worker thread finished; awaiting finish of 4 more threads\n",
      "2020-08-19 17:16:09,949 : INFO : worker thread finished; awaiting finish of 3 more threads\n",
      "2020-08-19 17:16:09,956 : INFO : worker thread finished; awaiting finish of 2 more threads\n",
      "2020-08-19 17:16:09,964 : INFO : worker thread finished; awaiting finish of 1 more threads\n",
      "2020-08-19 17:16:09,966 : INFO : worker thread finished; awaiting finish of 0 more threads\n",
      "2020-08-19 17:16:09,967 : INFO : EPOCH - 1 : training on 3480666 raw words (1211291 effective words) took 2.4s, 503413 effective words/s\n",
      "2020-08-19 17:16:10,986 : INFO : EPOCH 2 - PROGRESS: at 37.33% examples, 442980 words/s, in_qsize 14, out_qsize 1\n",
      "2020-08-19 17:16:11,988 : INFO : EPOCH 2 - PROGRESS: at 80.70% examples, 488443 words/s, in_qsize 15, out_qsize 0\n",
      "2020-08-19 17:16:12,364 : INFO : worker thread finished; awaiting finish of 7 more threads\n",
      "2020-08-19 17:16:12,380 : INFO : worker thread finished; awaiting finish of 6 more threads\n",
      "2020-08-19 17:16:12,382 : INFO : worker thread finished; awaiting finish of 5 more threads\n",
      "2020-08-19 17:16:12,385 : INFO : worker thread finished; awaiting finish of 4 more threads\n",
      "2020-08-19 17:16:12,386 : INFO : worker thread finished; awaiting finish of 3 more threads\n",
      "2020-08-19 17:16:12,388 : INFO : worker thread finished; awaiting finish of 2 more threads\n",
      "2020-08-19 17:16:12,392 : INFO : worker thread finished; awaiting finish of 1 more threads\n",
      "2020-08-19 17:16:12,393 : INFO : worker thread finished; awaiting finish of 0 more threads\n",
      "2020-08-19 17:16:12,394 : INFO : EPOCH - 2 : training on 3480666 raw words (1210802 effective words) took 2.4s, 499856 effective words/s\n",
      "2020-08-19 17:16:13,407 : INFO : EPOCH 3 - PROGRESS: at 42.79% examples, 510781 words/s, in_qsize 14, out_qsize 1\n",
      "2020-08-19 17:16:14,416 : INFO : EPOCH 3 - PROGRESS: at 80.70% examples, 488027 words/s, in_qsize 16, out_qsize 0\n",
      "2020-08-19 17:16:14,762 : INFO : worker thread finished; awaiting finish of 7 more threads\n",
      "2020-08-19 17:16:14,763 : INFO : worker thread finished; awaiting finish of 6 more threads\n",
      "2020-08-19 17:16:14,774 : INFO : worker thread finished; awaiting finish of 5 more threads\n",
      "2020-08-19 17:16:14,776 : INFO : worker thread finished; awaiting finish of 4 more threads\n",
      "2020-08-19 17:16:14,778 : INFO : worker thread finished; awaiting finish of 3 more threads\n",
      "2020-08-19 17:16:14,779 : INFO : worker thread finished; awaiting finish of 2 more threads\n",
      "2020-08-19 17:16:14,780 : INFO : worker thread finished; awaiting finish of 1 more threads\n",
      "2020-08-19 17:16:14,787 : INFO : worker thread finished; awaiting finish of 0 more threads\n",
      "2020-08-19 17:16:14,788 : INFO : EPOCH - 3 : training on 3480666 raw words (1210399 effective words) took 2.4s, 506792 effective words/s\n",
      "2020-08-19 17:16:15,792 : INFO : EPOCH 4 - PROGRESS: at 41.07% examples, 492892 words/s, in_qsize 5, out_qsize 2\n",
      "2020-08-19 17:16:16,795 : INFO : EPOCH 4 - PROGRESS: at 87.88% examples, 536353 words/s, in_qsize 15, out_qsize 0\n",
      "2020-08-19 17:16:16,965 : INFO : worker thread finished; awaiting finish of 7 more threads\n",
      "2020-08-19 17:16:16,968 : INFO : worker thread finished; awaiting finish of 6 more threads\n",
      "2020-08-19 17:16:16,980 : INFO : worker thread finished; awaiting finish of 5 more threads\n",
      "2020-08-19 17:16:16,982 : INFO : worker thread finished; awaiting finish of 4 more threads\n",
      "2020-08-19 17:16:16,983 : INFO : worker thread finished; awaiting finish of 3 more threads\n",
      "2020-08-19 17:16:16,986 : INFO : worker thread finished; awaiting finish of 2 more threads\n",
      "2020-08-19 17:16:16,991 : INFO : worker thread finished; awaiting finish of 1 more threads\n",
      "2020-08-19 17:16:16,996 : INFO : worker thread finished; awaiting finish of 0 more threads\n",
      "2020-08-19 17:16:16,997 : INFO : EPOCH - 4 : training on 3480666 raw words (1211091 effective words) took 2.2s, 548974 effective words/s\n",
      "2020-08-19 17:16:18,004 : INFO : EPOCH 5 - PROGRESS: at 44.23% examples, 532802 words/s, in_qsize 14, out_qsize 1\n",
      "2020-08-19 17:16:19,019 : INFO : EPOCH 5 - PROGRESS: at 88.74% examples, 538703 words/s, in_qsize 14, out_qsize 1\n",
      "2020-08-19 17:16:19,197 : INFO : worker thread finished; awaiting finish of 7 more threads\n",
      "2020-08-19 17:16:19,199 : INFO : worker thread finished; awaiting finish of 6 more threads\n",
      "2020-08-19 17:16:19,202 : INFO : worker thread finished; awaiting finish of 5 more threads\n",
      "2020-08-19 17:16:19,204 : INFO : worker thread finished; awaiting finish of 4 more threads\n",
      "2020-08-19 17:16:19,208 : INFO : worker thread finished; awaiting finish of 3 more threads\n",
      "2020-08-19 17:16:19,212 : INFO : worker thread finished; awaiting finish of 2 more threads\n",
      "2020-08-19 17:16:19,215 : INFO : worker thread finished; awaiting finish of 1 more threads\n",
      "2020-08-19 17:16:19,216 : INFO : worker thread finished; awaiting finish of 0 more threads\n",
      "2020-08-19 17:16:19,216 : INFO : EPOCH - 5 : training on 3480666 raw words (1211062 effective words) took 2.2s, 547442 effective words/s\n",
      "2020-08-19 17:16:19,218 : INFO : training on a 17403330 raw words (6054645 effective words) took 11.7s, 519252 effective words/s\n",
      "2020-08-19 17:16:19,219 : INFO : collecting all words and their counts\n",
      "2020-08-19 17:16:19,220 : INFO : PROGRESS: at sentence #0, processed 0 words, keeping 0 word types\n"
     ]
    },
    {
     "name": "stdout",
     "output_type": "stream",
     "text": [
      "2/3\n"
     ]
    },
    {
     "name": "stderr",
     "output_type": "stream",
     "text": [
      "2020-08-19 17:16:19,878 : INFO : PROGRESS: at sentence #10000, processed 2040000 words, keeping 20674 word types\n",
      "2020-08-19 17:16:20,423 : INFO : collected 25150 word types from a corpus of 4080000 raw words and 20000 sentences\n",
      "2020-08-19 17:16:20,424 : INFO : Updating model with new vocabulary\n",
      "2020-08-19 17:16:20,442 : INFO : New added 11395 unique words (31% of original 36545) and increased the count of 11395 pre-existing words (31% of original 36545)\n",
      "2020-08-19 17:16:20,531 : INFO : deleting the raw counts dictionary of 25150 items\n",
      "2020-08-19 17:16:20,533 : INFO : sample=0.001 downsamples 36 most-common words\n",
      "2020-08-19 17:16:20,534 : INFO : downsampling leaves estimated 3297882 word corpus (81.4% of prior 4051742)\n",
      "2020-08-19 17:16:20,593 : INFO : estimated required memory for 22790 words and 300 dimensions: 66091000 bytes\n",
      "2020-08-19 17:16:20,593 : INFO : updating layer weights\n",
      "2020-08-19 17:16:20,631 : WARNING : Effective 'alpha' higher than previous training cycles\n",
      "2020-08-19 17:16:20,632 : INFO : training model with 8 workers on 31085 vocabulary and 300 features, using sg=0 hs=0 sample=0.001 negative=5 window=3\n",
      "2020-08-19 17:16:21,651 : INFO : EPOCH 1 - PROGRESS: at 41.16% examples, 671443 words/s, in_qsize 13, out_qsize 2\n",
      "2020-08-19 17:16:22,659 : INFO : EPOCH 1 - PROGRESS: at 84.53% examples, 694459 words/s, in_qsize 15, out_qsize 0\n",
      "2020-08-19 17:16:22,969 : INFO : worker thread finished; awaiting finish of 7 more threads\n",
      "2020-08-19 17:16:22,976 : INFO : worker thread finished; awaiting finish of 6 more threads\n",
      "2020-08-19 17:16:22,978 : INFO : worker thread finished; awaiting finish of 5 more threads\n",
      "2020-08-19 17:16:22,980 : INFO : worker thread finished; awaiting finish of 4 more threads\n",
      "2020-08-19 17:16:22,981 : INFO : worker thread finished; awaiting finish of 3 more threads\n",
      "2020-08-19 17:16:22,985 : INFO : worker thread finished; awaiting finish of 2 more threads\n",
      "2020-08-19 17:16:22,986 : INFO : worker thread finished; awaiting finish of 1 more threads\n",
      "2020-08-19 17:16:22,997 : INFO : worker thread finished; awaiting finish of 0 more threads\n",
      "2020-08-19 17:16:22,998 : INFO : EPOCH - 1 : training on 4080000 raw words (1677348 effective words) took 2.4s, 710107 effective words/s\n",
      "2020-08-19 17:16:24,011 : INFO : EPOCH 2 - PROGRESS: at 37.73% examples, 613624 words/s, in_qsize 13, out_qsize 2\n",
      "2020-08-19 17:16:25,023 : INFO : EPOCH 2 - PROGRESS: at 77.91% examples, 638888 words/s, in_qsize 13, out_qsize 2\n",
      "2020-08-19 17:16:25,501 : INFO : worker thread finished; awaiting finish of 7 more threads\n",
      "2020-08-19 17:16:25,505 : INFO : worker thread finished; awaiting finish of 6 more threads\n",
      "2020-08-19 17:16:25,506 : INFO : worker thread finished; awaiting finish of 5 more threads\n",
      "2020-08-19 17:16:25,506 : INFO : worker thread finished; awaiting finish of 4 more threads\n",
      "2020-08-19 17:16:25,508 : INFO : worker thread finished; awaiting finish of 3 more threads\n",
      "2020-08-19 17:16:25,509 : INFO : worker thread finished; awaiting finish of 2 more threads\n",
      "2020-08-19 17:16:25,519 : INFO : worker thread finished; awaiting finish of 1 more threads\n",
      "2020-08-19 17:16:25,520 : INFO : worker thread finished; awaiting finish of 0 more threads\n",
      "2020-08-19 17:16:25,521 : INFO : EPOCH - 2 : training on 4080000 raw words (1676696 effective words) took 2.5s, 665543 effective words/s\n",
      "2020-08-19 17:16:26,540 : INFO : EPOCH 3 - PROGRESS: at 40.91% examples, 666204 words/s, in_qsize 13, out_qsize 2\n",
      "2020-08-19 17:16:27,543 : INFO : EPOCH 3 - PROGRESS: at 80.85% examples, 664453 words/s, in_qsize 14, out_qsize 1\n",
      "2020-08-19 17:16:27,931 : INFO : worker thread finished; awaiting finish of 7 more threads\n",
      "2020-08-19 17:16:27,943 : INFO : worker thread finished; awaiting finish of 6 more threads\n",
      "2020-08-19 17:16:27,951 : INFO : worker thread finished; awaiting finish of 5 more threads\n",
      "2020-08-19 17:16:27,952 : INFO : worker thread finished; awaiting finish of 4 more threads\n",
      "2020-08-19 17:16:27,953 : INFO : worker thread finished; awaiting finish of 3 more threads\n",
      "2020-08-19 17:16:27,954 : INFO : worker thread finished; awaiting finish of 2 more threads\n",
      "2020-08-19 17:16:27,957 : INFO : worker thread finished; awaiting finish of 1 more threads\n",
      "2020-08-19 17:16:27,963 : INFO : worker thread finished; awaiting finish of 0 more threads\n",
      "2020-08-19 17:16:27,964 : INFO : EPOCH - 3 : training on 4080000 raw words (1677106 effective words) took 2.4s, 687740 effective words/s\n",
      "2020-08-19 17:16:28,972 : INFO : EPOCH 4 - PROGRESS: at 40.67% examples, 667789 words/s, in_qsize 16, out_qsize 0\n",
      "2020-08-19 17:16:29,976 : INFO : EPOCH 4 - PROGRESS: at 84.53% examples, 699900 words/s, in_qsize 11, out_qsize 4\n",
      "2020-08-19 17:16:30,276 : INFO : worker thread finished; awaiting finish of 7 more threads\n",
      "2020-08-19 17:16:30,278 : INFO : worker thread finished; awaiting finish of 6 more threads\n",
      "2020-08-19 17:16:30,281 : INFO : worker thread finished; awaiting finish of 5 more threads\n",
      "2020-08-19 17:16:30,282 : INFO : worker thread finished; awaiting finish of 4 more threads\n",
      "2020-08-19 17:16:30,284 : INFO : worker thread finished; awaiting finish of 3 more threads\n",
      "2020-08-19 17:16:30,291 : INFO : worker thread finished; awaiting finish of 2 more threads\n",
      "2020-08-19 17:16:30,293 : INFO : worker thread finished; awaiting finish of 1 more threads\n",
      "2020-08-19 17:16:30,293 : INFO : worker thread finished; awaiting finish of 0 more threads\n",
      "2020-08-19 17:16:30,294 : INFO : EPOCH - 4 : training on 4080000 raw words (1678209 effective words) took 2.3s, 721168 effective words/s\n",
      "2020-08-19 17:16:31,318 : INFO : EPOCH 5 - PROGRESS: at 42.63% examples, 694633 words/s, in_qsize 15, out_qsize 0\n",
      "2020-08-19 17:16:32,332 : INFO : EPOCH 5 - PROGRESS: at 86.73% examples, 709468 words/s, in_qsize 12, out_qsize 3\n",
      "2020-08-19 17:16:32,621 : INFO : worker thread finished; awaiting finish of 7 more threads\n",
      "2020-08-19 17:16:32,623 : INFO : worker thread finished; awaiting finish of 6 more threads\n",
      "2020-08-19 17:16:32,625 : INFO : worker thread finished; awaiting finish of 5 more threads\n",
      "2020-08-19 17:16:32,627 : INFO : worker thread finished; awaiting finish of 4 more threads\n",
      "2020-08-19 17:16:32,630 : INFO : worker thread finished; awaiting finish of 3 more threads\n",
      "2020-08-19 17:16:32,639 : INFO : worker thread finished; awaiting finish of 2 more threads\n",
      "2020-08-19 17:16:32,640 : INFO : worker thread finished; awaiting finish of 1 more threads\n",
      "2020-08-19 17:16:32,641 : INFO : worker thread finished; awaiting finish of 0 more threads\n",
      "2020-08-19 17:16:32,641 : INFO : EPOCH - 5 : training on 4080000 raw words (1677285 effective words) took 2.3s, 715550 effective words/s\n",
      "2020-08-19 17:16:32,642 : INFO : training on a 20400000 raw words (8386644 effective words) took 12.0s, 698314 effective words/s\n"
     ]
    },
    {
     "data": {
      "text/plain": [
       "(8386644, 20400000)"
      ]
     },
     "execution_count": 40,
     "metadata": {},
     "output_type": "execute_result"
    }
   ],
   "source": [
    "print('start retrain w2v model')\n",
    "wv_model.build_vocab(LineSentence(train_x_pad_path), update=True)\n",
    "wv_model.train(LineSentence(train_x_pad_path), epochs=wv_train_epochs, total_examples=wv_model.corpus_count)\n",
    "print('1/3')\n",
    "wv_model.build_vocab(LineSentence(train_y_pad_path), update=True)\n",
    "wv_model.train(LineSentence(train_y_pad_path), epochs=wv_train_epochs, total_examples=wv_model.corpus_count)\n",
    "print('2/3')\n",
    "wv_model.build_vocab(LineSentence(test_x_pad_path), update=True)\n",
    "wv_model.train(LineSentence(test_x_pad_path), epochs=wv_train_epochs, total_examples=wv_model.corpus_count)"
   ]
  },
  {
   "cell_type": "code",
   "execution_count": 41,
   "metadata": {},
   "outputs": [
    {
     "name": "stderr",
     "output_type": "stream",
     "text": [
      "2020-08-19 17:16:32,699 : INFO : saving Word2Vec object under /Users/sara/Documents/算法学习/NLP/nlp名企/作业讲课资料/1-2/seq2seq/code/data/wv/word2vec.model, separately None\n",
      "2020-08-19 17:16:32,701 : INFO : not storing attribute vectors_norm\n",
      "2020-08-19 17:16:32,702 : INFO : not storing attribute cum_table\n",
      "2020-08-19 17:16:33,637 : INFO : saved /Users/sara/Documents/算法学习/NLP/nlp名企/作业讲课资料/1-2/seq2seq/code/data/wv/word2vec.model\n"
     ]
    }
   ],
   "source": [
    "# 保存词向量模型\n",
    "wv_model.save(save_wv_model_path)"
   ]
  },
  {
   "cell_type": "markdown",
   "metadata": {},
   "source": [
    "## Q5.为什么不一开始就添加 标志符号,然后训练词向量?"
   ]
  },
  {
   "cell_type": "code",
   "execution_count": 42,
   "metadata": {},
   "outputs": [
    {
     "data": {
      "text/plain": [
       "(31085, 300)"
      ]
     },
     "execution_count": 42,
     "metadata": {},
     "output_type": "execute_result"
    }
   ],
   "source": [
    "# 更新vocab \n",
    "vocab = {word: index for index, word in enumerate(wv_model.wv.index2word)}\n",
    "reverse_vocab = {index: word for index, word in enumerate(wv_model.wv.index2word)}\n",
    "# 更新词向量矩阵\n",
    "embedding_matrix = wv_model.wv.vectors\n",
    "embedding_matrix.shape"
   ]
  },
  {
   "cell_type": "code",
   "execution_count": 43,
   "metadata": {},
   "outputs": [
    {
     "data": {
      "text/plain": [
       "['短发', '<START>', '<STOP>', '<PAD>', '<UNK>']"
      ]
     },
     "execution_count": 43,
     "metadata": {},
     "output_type": "execute_result"
    }
   ],
   "source": [
    "list(vocab.keys())[-5:]"
   ]
  },
  {
   "cell_type": "code",
   "execution_count": 44,
   "metadata": {},
   "outputs": [
    {
     "data": {
      "text/plain": [
       "(31851, 300)"
      ]
     },
     "execution_count": 44,
     "metadata": {},
     "output_type": "execute_result"
    }
   ],
   "source": [
    "(31851, 300)"
   ]
  },
  {
   "cell_type": "markdown",
   "metadata": {},
   "source": [
    "## Q6. 词可以训练吗?"
   ]
  },
  {
   "cell_type": "markdown",
   "metadata": {},
   "source": [
    "## 3.4 数值转换"
   ]
  },
  {
   "cell_type": "code",
   "execution_count": 47,
   "metadata": {},
   "outputs": [],
   "source": [
    "# 遇到未知词就填充unk的索引\n",
    "unk_index = vocab['<UNK>']\n",
    "def transform_data(sentence,vocab):\n",
    "    # 字符串切分成词\n",
    "    words=sentence.split(' ')\n",
    "    # 按照vocab的index进行转换\n",
    "    ids=[vocab[word] if word in vocab else unk_index for word in words]\n",
    "    return ids"
   ]
  },
  {
   "cell_type": "code",
   "execution_count": 49,
   "metadata": {},
   "outputs": [],
   "source": [
    "train_X=train_df['X']\n",
    "train_Y=train_df['Y']\n",
    "test_X=test_df['X']"
   ]
  },
  {
   "cell_type": "code",
   "execution_count": 50,
   "metadata": {},
   "outputs": [
    {
     "data": {
      "text/plain": [
       "0    <START> 方向机 重 ， 助力 泵 ， 方向机 都 换 技师说 车主说 新 都 换 车...\n",
       "1    <START> 奔驰 <UNK> 排气 凸轮轴 调节 错误 技师说 有没有 电脑 检测 故障...\n",
       "2    <START> 2010 款 宝马X1 ， 2011 年 出厂 ， 2.0 排量 ， 通用 ...\n",
       "3    <START> 3.0 V6 发动机 号 位置 ， 照片 最好 ！ 技师说 右侧 排气管 上...\n",
       "4    <START> 2012 款 奔驰 c180 ， 维修保养 ， 动力 ， 值得 拥有 技师说...\n",
       "Name: X, dtype: object"
      ]
     },
     "execution_count": 50,
     "metadata": {},
     "output_type": "execute_result"
    }
   ],
   "source": [
    "train_X.head()"
   ]
  },
  {
   "cell_type": "code",
   "execution_count": 51,
   "metadata": {
    "scrolled": true
   },
   "outputs": [],
   "source": [
    "# 将词转换成索引  [<START> 方向机 重 ...] -> [32800, 403, 986, 246, 231\n",
    "train_ids_x=train_X.apply(lambda x:transform_data(x,vocab))\n",
    "train_ids_y=train_Y.apply(lambda x:transform_data(x,vocab))\n",
    "test_ids_x=test_X.apply(lambda x:transform_data(x,vocab))"
   ]
  },
  {
   "cell_type": "code",
   "execution_count": 52,
   "metadata": {},
   "outputs": [],
   "source": [
    "# 将索引列表转换成矩阵 [32800, 403, 986, 246, 231] --> array([[32800,   403,   986 ]]\n",
    "train_data_X=np.array(train_ids_x.tolist())\n",
    "train_data_Y=np.array(train_ids_y.tolist())\n",
    "test_data_X=np.array(test_ids_x.tolist())"
   ]
  },
  {
   "cell_type": "code",
   "execution_count": 53,
   "metadata": {},
   "outputs": [
    {
     "data": {
      "text/plain": [
       "(82873, 204)"
      ]
     },
     "execution_count": 53,
     "metadata": {},
     "output_type": "execute_result"
    }
   ],
   "source": [
    "train_data_X.shape"
   ]
  },
  {
   "cell_type": "code",
   "execution_count": 54,
   "metadata": {},
   "outputs": [
    {
     "data": {
      "text/plain": [
       "array([[31081,   418,   802, ..., 31083, 31083, 31083],\n",
       "       [31081,   815, 31084, ..., 31083, 31083, 31083],\n",
       "       [31081,  1387,    59, ..., 31082, 31083, 31083],\n",
       "       ...,\n",
       "       [31081,   230,   898, ..., 31083, 31083, 31083],\n",
       "       [31081, 12409,  3104, ..., 31083, 31083, 31083],\n",
       "       [31081,    10,  3235, ..., 31083, 31083, 31083]])"
      ]
     },
     "execution_count": 54,
     "metadata": {},
     "output_type": "execute_result"
    }
   ],
   "source": [
    "train_data_X"
   ]
  },
  {
   "cell_type": "markdown",
   "metadata": {},
   "source": [
    "## 4. 简易模型搭建"
   ]
  },
  {
   "cell_type": "code",
   "execution_count": 55,
   "metadata": {},
   "outputs": [],
   "source": [
    "from tensorflow.keras.models import Model, Sequential\n",
    "from tensorflow.keras.layers import GRU, Input, Dense, TimeDistributed, Activation, RepeatVector, Bidirectional\n",
    "from tensorflow.keras.layers import Embedding\n",
    "from tensorflow.keras.optimizers import Adam\n",
    "from tensorflow.keras.losses import sparse_categorical_crossentropy"
   ]
  },
  {
   "cell_type": "code",
   "execution_count": 56,
   "metadata": {},
   "outputs": [],
   "source": [
    "def seq2seq(input_length, output_sequence_length, embedding_matrix, vocab_size):\n",
    "    model = Sequential()\n",
    "    model.add(Embedding(input_dim=vocab_size, output_dim=300, weights=[embedding_matrix], trainable=False,\n",
    "                        input_length=input_length))\n",
    "    model.add(Bidirectional(GRU(300, return_sequences=False)))\n",
    "    model.add(Dense(300, activation=\"relu\"))\n",
    "    model.add(RepeatVector(output_sequence_length))\n",
    "    model.add(Bidirectional(GRU(300, return_sequences=True)))\n",
    "    model.add(TimeDistributed(Dense(vocab_size, activation='softmax')))\n",
    "    model.compile(loss=sparse_categorical_crossentropy,\n",
    "                  optimizer=Adam(1e-3))\n",
    "    model.summary()\n",
    "    return model"
   ]
  },
  {
   "cell_type": "markdown",
   "metadata": {},
   "source": [
    "## 4.1 基本参数设置"
   ]
  },
  {
   "cell_type": "code",
   "execution_count": null,
   "metadata": {},
   "outputs": [],
   "source": [
    "train_data_X.shape"
   ]
  },
  {
   "cell_type": "code",
   "execution_count": 58,
   "metadata": {},
   "outputs": [],
   "source": [
    "# 输入的长度\n",
    "input_length = train_data_X.shape[1]\n",
    "# 输出的长度\n",
    "output_sequence_length = train_data_Y.shape[1]\n",
    "# 词表大小\n",
    "vocab_size=len(vocab)\n",
    "# 词向量矩阵\n",
    "embedding_matrix = wv_model.wv.vectors"
   ]
  },
  {
   "cell_type": "markdown",
   "metadata": {},
   "source": [
    "## 4.2 模型构建"
   ]
  },
  {
   "cell_type": "code",
   "execution_count": 59,
   "metadata": {},
   "outputs": [
    {
     "name": "stdout",
     "output_type": "stream",
     "text": [
      "Model: \"sequential\"\n",
      "_________________________________________________________________\n",
      "Layer (type)                 Output Shape              Param #   \n",
      "=================================================================\n",
      "embedding (Embedding)        (None, 204, 300)          9325500   \n",
      "_________________________________________________________________\n",
      "bidirectional (Bidirectional (None, 600)               1083600   \n",
      "_________________________________________________________________\n",
      "dense (Dense)                (None, 300)               180300    \n",
      "_________________________________________________________________\n",
      "repeat_vector (RepeatVector) (None, 42, 300)           0         \n",
      "_________________________________________________________________\n",
      "bidirectional_1 (Bidirection (None, 42, 600)           1083600   \n",
      "_________________________________________________________________\n",
      "time_distributed (TimeDistri (None, 42, 31085)         18682085  \n",
      "=================================================================\n",
      "Total params: 30,355,085\n",
      "Trainable params: 21,029,585\n",
      "Non-trainable params: 9,325,500\n",
      "_________________________________________________________________\n"
     ]
    }
   ],
   "source": [
    "model = seq2seq(input_length,output_sequence_length,embedding_matrix,vocab_size)"
   ]
  },
  {
   "cell_type": "markdown",
   "metadata": {},
   "source": [
    "## 4.3 模型训练"
   ]
  },
  {
   "cell_type": "code",
   "execution_count": 60,
   "metadata": {},
   "outputs": [
    {
     "name": "stdout",
     "output_type": "stream",
     "text": [
      "2072/2072 [==============================] - 11114s 5s/step - loss: 2.8853 - val_loss: 2.6326\n"
     ]
    },
    {
     "data": {
      "text/plain": [
       "<tensorflow.python.keras.callbacks.History at 0x7fa3121a44d0>"
      ]
     },
     "execution_count": 60,
     "metadata": {},
     "output_type": "execute_result"
    }
   ],
   "source": [
    "model.fit(train_data_X, train_data_Y, batch_size=32, epochs=1, validation_split=0.2)"
   ]
  },
  {
   "cell_type": "markdown",
   "metadata": {},
   "source": [
    "## 4.4 模型保存"
   ]
  },
  {
   "cell_type": "code",
   "execution_count": null,
   "metadata": {},
   "outputs": [],
   "source": [
    "model.save('data/seq2seq_model.h')"
   ]
  },
  {
   "cell_type": "markdown",
   "metadata": {},
   "source": [
    "## 4 .5 模型预测"
   ]
  },
  {
   "cell_type": "code",
   "execution_count": 1,
   "metadata": {},
   "outputs": [
    {
     "ename": "NameError",
     "evalue": "name 'model' is not defined",
     "output_type": "error",
     "traceback": [
      "\u001b[0;31m---------------------------------------------------------------------------\u001b[0m",
      "\u001b[0;31mNameError\u001b[0m                                 Traceback (most recent call last)",
      "\u001b[0;32m<ipython-input-1-2e8e03d7535c>\u001b[0m in \u001b[0;36m<module>\u001b[0;34m\u001b[0m\n\u001b[0;32m----> 1\u001b[0;31m \u001b[0mtest_data_Y\u001b[0m \u001b[0;34m=\u001b[0m \u001b[0mmodel\u001b[0m\u001b[0;34m.\u001b[0m\u001b[0mpredict\u001b[0m\u001b[0;34m(\u001b[0m\u001b[0mtest_data_X\u001b[0m\u001b[0;34m)\u001b[0m\u001b[0;34m\u001b[0m\u001b[0;34m\u001b[0m\u001b[0m\n\u001b[0m",
      "\u001b[0;31mNameError\u001b[0m: name 'model' is not defined"
     ]
    }
   ],
   "source": [
    "test_data_Y = model.predict(test_data_X)"
   ]
  },
  {
   "cell_type": "markdown",
   "metadata": {},
   "source": [
    "# seq2seq"
   ]
  },
  {
   "cell_type": "markdown",
   "metadata": {},
   "source": [
    "1. 所有输出端，都以一个通用的<start>标记开头，以<end>标记结尾，这两个标记也视为一个词/字；\n",
    "\n",
    "2. 将<start>输入decoder，然后得到隐藏层向量，将这个向量与encoder的输出混合，然后送入一个分类器，分类器的结果应当输出P；\n",
    "\n",
    "3. 将P输入decoder，得到新的隐藏层向量，再次与encoder的输出混合，送入分类器，分类器应输出Q；\n",
    "\n",
    "4. 依此递归，直到分类器的结果输出<end>。\n",
    "    \n",
    "\n",
    "* 回到用seq2seq生成文章标题这个任务上，模型可以做些简化，并且可以引入一些先验知识。比如，由于输入语言和输出语言都是中文，因此encoder和decoder的Embedding层可以共享参数（也就是用同一套词向量）。这使得模型的参数量大幅度减少了。\n"
   ]
  },
  {
   "cell_type": "code",
   "execution_count": null,
   "metadata": {},
   "outputs": [],
   "source": [
    "from keras.preprocessing.text import Tokenizer # 词表构建 单词过滤 词频统计 序列填充\n",
    "from keras.preprocessing.sequence import pad_sequences # 序列数据填充\n",
    "from sklearn.model_selection import train_test_split # 数据集划分"
   ]
  },
  {
   "cell_type": "code",
   "execution_count": null,
   "metadata": {},
   "outputs": [],
   "source": []
  }
 ],
 "metadata": {
  "kernelspec": {
   "display_name": "Python 3",
   "language": "python",
   "name": "python3"
  },
  "language_info": {
   "codemirror_mode": {
    "name": "ipython",
    "version": 3
   },
   "file_extension": ".py",
   "mimetype": "text/x-python",
   "name": "python",
   "nbconvert_exporter": "python",
   "pygments_lexer": "ipython3",
   "version": "3.7.6"
  }
 },
 "nbformat": 4,
 "nbformat_minor": 4
}
